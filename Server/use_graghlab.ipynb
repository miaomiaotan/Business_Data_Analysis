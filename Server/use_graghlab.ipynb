{
 "cells": [
  {
   "cell_type": "code",
   "execution_count": 14,
   "metadata": {
    "collapsed": false
   },
   "outputs": [],
   "source": [
    "import graphlab"
   ]
  },
  {
   "cell_type": "code",
   "execution_count": 2,
   "metadata": {
    "collapsed": false
   },
   "outputs": [
    {
     "name": "stdout",
     "output_type": "stream",
     "text": [
      "This non-commercial license of GraphLab Create for academic use is assigned to tmm4225636@163.com and will expire on July 01, 2017.\n"
     ]
    },
    {
     "name": "stderr",
     "output_type": "stream",
     "text": [
      "[INFO] graphlab.cython.cy_server: GraphLab Create v1.10.1 started. Logging: /tmp/graphlab_server_1473128400.log\n"
     ]
    },
    {
     "data": {
      "text/html": [
       "<pre>Finished parsing file /Users/tmm/Desktop/Yangcai_data_analyse/server/result/all_sale_info.csv</pre>"
      ],
      "text/plain": [
       "Finished parsing file /Users/tmm/Desktop/Yangcai_data_analyse/server/result/all_sale_info.csv"
      ]
     },
     "metadata": {},
     "output_type": "display_data"
    },
    {
     "data": {
      "text/html": [
       "<pre>Parsing completed. Parsed 100 lines in 0.043298 secs.</pre>"
      ],
      "text/plain": [
       "Parsing completed. Parsed 100 lines in 0.043298 secs."
      ]
     },
     "metadata": {},
     "output_type": "display_data"
    },
    {
     "name": "stdout",
     "output_type": "stream",
     "text": [
      "------------------------------------------------------\n",
      "Inferred types from first 100 line(s) of file as \n",
      "column_type_hints=[int,str,str,str,str,str,int,float,str,str,str,float]\n",
      "If parsing fails due to incorrect types, you can correct\n",
      "the inferred type list above and pass it to read_csv in\n",
      "the column_type_hints argument\n",
      "------------------------------------------------------\n"
     ]
    },
    {
     "data": {
      "text/html": [
       "<pre>Finished parsing file /Users/tmm/Desktop/Yangcai_data_analyse/server/result/all_sale_info.csv</pre>"
      ],
      "text/plain": [
       "Finished parsing file /Users/tmm/Desktop/Yangcai_data_analyse/server/result/all_sale_info.csv"
      ]
     },
     "metadata": {},
     "output_type": "display_data"
    },
    {
     "data": {
      "text/html": [
       "<pre>Parsing completed. Parsed 1073 lines in 0.017223 secs.</pre>"
      ],
      "text/plain": [
       "Parsing completed. Parsed 1073 lines in 0.017223 secs."
      ]
     },
     "metadata": {},
     "output_type": "display_data"
    }
   ],
   "source": [
    "sales = graphlab.SFrame('/Users/tmm/Desktop/Yangcai_data_analyse/server/result/all_sale_info.csv')"
   ]
  },
  {
   "cell_type": "code",
   "execution_count": 3,
   "metadata": {
    "collapsed": false
   },
   "outputs": [
    {
     "data": {
      "text/html": [
       "<div style=\"max-height:1000px;max-width:1500px;overflow:auto;\"><table frame=\"box\" rules=\"cols\">\n",
       "    <tr>\n",
       "        <th style=\"padding-left: 1em; padding-right: 1em; text-align: center\">id</th>\n",
       "        <th style=\"padding-left: 1em; padding-right: 1em; text-align: center\">category</th>\n",
       "        <th style=\"padding-left: 1em; padding-right: 1em; text-align: center\">brand</th>\n",
       "        <th style=\"padding-left: 1em; padding-right: 1em; text-align: center\">type</th>\n",
       "        <th style=\"padding-left: 1em; padding-right: 1em; text-align: center\">model</th>\n",
       "        <th style=\"padding-left: 1em; padding-right: 1em; text-align: center\">buyer</th>\n",
       "        <th style=\"padding-left: 1em; padding-right: 1em; text-align: center\">number</th>\n",
       "        <th style=\"padding-left: 1em; padding-right: 1em; text-align: center\">price</th>\n",
       "    </tr>\n",
       "    <tr>\n",
       "        <td style=\"padding-left: 1em; padding-right: 1em; text-align: center; vertical-align: top\">3921667</td>\n",
       "        <td style=\"padding-left: 1em; padding-right: 1em; text-align: center; vertical-align: top\">塔式服务器高档</td>\n",
       "        <td style=\"padding-left: 1em; padding-right: 1em; text-align: center; vertical-align: top\">inspur浪潮</td>\n",
       "        <td style=\"padding-left: 1em; padding-right: 1em; text-align: center; vertical-align: top\">P8000</td>\n",
       "        <td style=\"padding-left: 1em; padding-right: 1em; text-align: center; vertical-align: top\">inspur浪潮, P8000</td>\n",
       "        <td style=\"padding-left: 1em; padding-right: 1em; text-align: center; vertical-align: top\">黄河水利委员会三�<br>��峡库区水文水资� ...</td>\n",
       "        <td style=\"padding-left: 1em; padding-right: 1em; text-align: center; vertical-align: top\">1</td>\n",
       "        <td style=\"padding-left: 1em; padding-right: 1em; text-align: center; vertical-align: top\">34500.0</td>\n",
       "    </tr>\n",
       "    <tr>\n",
       "        <td style=\"padding-left: 1em; padding-right: 1em; text-align: center; vertical-align: top\">3921667</td>\n",
       "        <td style=\"padding-left: 1em; padding-right: 1em; text-align: center; vertical-align: top\">塔式服务器高档</td>\n",
       "        <td style=\"padding-left: 1em; padding-right: 1em; text-align: center; vertical-align: top\">inspur浪潮</td>\n",
       "        <td style=\"padding-left: 1em; padding-right: 1em; text-align: center; vertical-align: top\">P8000</td>\n",
       "        <td style=\"padding-left: 1em; padding-right: 1em; text-align: center; vertical-align: top\">inspur浪潮, P8000</td>\n",
       "        <td style=\"padding-left: 1em; padding-right: 1em; text-align: center; vertical-align: top\">同济大学</td>\n",
       "        <td style=\"padding-left: 1em; padding-right: 1em; text-align: center; vertical-align: top\">1</td>\n",
       "        <td style=\"padding-left: 1em; padding-right: 1em; text-align: center; vertical-align: top\">36950.0</td>\n",
       "    </tr>\n",
       "    <tr>\n",
       "        <td style=\"padding-left: 1em; padding-right: 1em; text-align: center; vertical-align: top\">3921667</td>\n",
       "        <td style=\"padding-left: 1em; padding-right: 1em; text-align: center; vertical-align: top\">塔式服务器高档</td>\n",
       "        <td style=\"padding-left: 1em; padding-right: 1em; text-align: center; vertical-align: top\">inspur浪潮</td>\n",
       "        <td style=\"padding-left: 1em; padding-right: 1em; text-align: center; vertical-align: top\">P8000</td>\n",
       "        <td style=\"padding-left: 1em; padding-right: 1em; text-align: center; vertical-align: top\">inspur浪潮, P8000</td>\n",
       "        <td style=\"padding-left: 1em; padding-right: 1em; text-align: center; vertical-align: top\">水利部交通运输部�<br>��家能源局南京水� ...</td>\n",
       "        <td style=\"padding-left: 1em; padding-right: 1em; text-align: center; vertical-align: top\">1</td>\n",
       "        <td style=\"padding-left: 1em; padding-right: 1em; text-align: center; vertical-align: top\">34890.0</td>\n",
       "    </tr>\n",
       "    <tr>\n",
       "        <td style=\"padding-left: 1em; padding-right: 1em; text-align: center; vertical-align: top\">3921666</td>\n",
       "        <td style=\"padding-left: 1em; padding-right: 1em; text-align: center; vertical-align: top\">塔式服务器高档</td>\n",
       "        <td style=\"padding-left: 1em; padding-right: 1em; text-align: center; vertical-align: top\">inspur浪潮</td>\n",
       "        <td style=\"padding-left: 1em; padding-right: 1em; text-align: center; vertical-align: top\">P8000</td>\n",
       "        <td style=\"padding-left: 1em; padding-right: 1em; text-align: center; vertical-align: top\">inspur浪潮, P8000</td>\n",
       "        <td style=\"padding-left: 1em; padding-right: 1em; text-align: center; vertical-align: top\">水利部交通运输部�<br>��家能源局南京水� ...</td>\n",
       "        <td style=\"padding-left: 1em; padding-right: 1em; text-align: center; vertical-align: top\">1</td>\n",
       "        <td style=\"padding-left: 1em; padding-right: 1em; text-align: center; vertical-align: top\">46300.0</td>\n",
       "    </tr>\n",
       "    <tr>\n",
       "        <td style=\"padding-left: 1em; padding-right: 1em; text-align: center; vertical-align: top\">3921666</td>\n",
       "        <td style=\"padding-left: 1em; padding-right: 1em; text-align: center; vertical-align: top\">塔式服务器高档</td>\n",
       "        <td style=\"padding-left: 1em; padding-right: 1em; text-align: center; vertical-align: top\">inspur浪潮</td>\n",
       "        <td style=\"padding-left: 1em; padding-right: 1em; text-align: center; vertical-align: top\">P8000</td>\n",
       "        <td style=\"padding-left: 1em; padding-right: 1em; text-align: center; vertical-align: top\">inspur浪潮, P8000</td>\n",
       "        <td style=\"padding-left: 1em; padding-right: 1em; text-align: center; vertical-align: top\">北京外国语大学</td>\n",
       "        <td style=\"padding-left: 1em; padding-right: 1em; text-align: center; vertical-align: top\">1</td>\n",
       "        <td style=\"padding-left: 1em; padding-right: 1em; text-align: center; vertical-align: top\">48152.5</td>\n",
       "    </tr>\n",
       "    <tr>\n",
       "        <td style=\"padding-left: 1em; padding-right: 1em; text-align: center; vertical-align: top\">3921666</td>\n",
       "        <td style=\"padding-left: 1em; padding-right: 1em; text-align: center; vertical-align: top\">塔式服务器高档</td>\n",
       "        <td style=\"padding-left: 1em; padding-right: 1em; text-align: center; vertical-align: top\">inspur浪潮</td>\n",
       "        <td style=\"padding-left: 1em; padding-right: 1em; text-align: center; vertical-align: top\">P8000</td>\n",
       "        <td style=\"padding-left: 1em; padding-right: 1em; text-align: center; vertical-align: top\">inspur浪潮, P8000</td>\n",
       "        <td style=\"padding-left: 1em; padding-right: 1em; text-align: center; vertical-align: top\">北京航空航天大学</td>\n",
       "        <td style=\"padding-left: 1em; padding-right: 1em; text-align: center; vertical-align: top\">1</td>\n",
       "        <td style=\"padding-left: 1em; padding-right: 1em; text-align: center; vertical-align: top\">48152.5</td>\n",
       "    </tr>\n",
       "    <tr>\n",
       "        <td style=\"padding-left: 1em; padding-right: 1em; text-align: center; vertical-align: top\">3921666</td>\n",
       "        <td style=\"padding-left: 1em; padding-right: 1em; text-align: center; vertical-align: top\">塔式服务器高档</td>\n",
       "        <td style=\"padding-left: 1em; padding-right: 1em; text-align: center; vertical-align: top\">inspur浪潮</td>\n",
       "        <td style=\"padding-left: 1em; padding-right: 1em; text-align: center; vertical-align: top\">P8000</td>\n",
       "        <td style=\"padding-left: 1em; padding-right: 1em; text-align: center; vertical-align: top\">inspur浪潮, P8000</td>\n",
       "        <td style=\"padding-left: 1em; padding-right: 1em; text-align: center; vertical-align: top\">北京交通大学</td>\n",
       "        <td style=\"padding-left: 1em; padding-right: 1em; text-align: center; vertical-align: top\">1</td>\n",
       "        <td style=\"padding-left: 1em; padding-right: 1em; text-align: center; vertical-align: top\">48152.5</td>\n",
       "    </tr>\n",
       "    <tr>\n",
       "        <td style=\"padding-left: 1em; padding-right: 1em; text-align: center; vertical-align: top\">3921666</td>\n",
       "        <td style=\"padding-left: 1em; padding-right: 1em; text-align: center; vertical-align: top\">塔式服务器高档</td>\n",
       "        <td style=\"padding-left: 1em; padding-right: 1em; text-align: center; vertical-align: top\">inspur浪潮</td>\n",
       "        <td style=\"padding-left: 1em; padding-right: 1em; text-align: center; vertical-align: top\">P8000</td>\n",
       "        <td style=\"padding-left: 1em; padding-right: 1em; text-align: center; vertical-align: top\">inspur浪潮, P8000</td>\n",
       "        <td style=\"padding-left: 1em; padding-right: 1em; text-align: center; vertical-align: top\">中国矿业大学</td>\n",
       "        <td style=\"padding-left: 1em; padding-right: 1em; text-align: center; vertical-align: top\">1</td>\n",
       "        <td style=\"padding-left: 1em; padding-right: 1em; text-align: center; vertical-align: top\">48000.0</td>\n",
       "    </tr>\n",
       "    <tr>\n",
       "        <td style=\"padding-left: 1em; padding-right: 1em; text-align: center; vertical-align: top\">3921666</td>\n",
       "        <td style=\"padding-left: 1em; padding-right: 1em; text-align: center; vertical-align: top\">塔式服务器高档</td>\n",
       "        <td style=\"padding-left: 1em; padding-right: 1em; text-align: center; vertical-align: top\">inspur浪潮</td>\n",
       "        <td style=\"padding-left: 1em; padding-right: 1em; text-align: center; vertical-align: top\">P8000</td>\n",
       "        <td style=\"padding-left: 1em; padding-right: 1em; text-align: center; vertical-align: top\">inspur浪潮, P8000</td>\n",
       "        <td style=\"padding-left: 1em; padding-right: 1em; text-align: center; vertical-align: top\">中国矿业大学</td>\n",
       "        <td style=\"padding-left: 1em; padding-right: 1em; text-align: center; vertical-align: top\">1</td>\n",
       "        <td style=\"padding-left: 1em; padding-right: 1em; text-align: center; vertical-align: top\">31000.0</td>\n",
       "    </tr>\n",
       "    <tr>\n",
       "        <td style=\"padding-left: 1em; padding-right: 1em; text-align: center; vertical-align: top\">3921666</td>\n",
       "        <td style=\"padding-left: 1em; padding-right: 1em; text-align: center; vertical-align: top\">塔式服务器高档</td>\n",
       "        <td style=\"padding-left: 1em; padding-right: 1em; text-align: center; vertical-align: top\">inspur浪潮</td>\n",
       "        <td style=\"padding-left: 1em; padding-right: 1em; text-align: center; vertical-align: top\">P8000</td>\n",
       "        <td style=\"padding-left: 1em; padding-right: 1em; text-align: center; vertical-align: top\">inspur浪潮, P8000</td>\n",
       "        <td style=\"padding-left: 1em; padding-right: 1em; text-align: center; vertical-align: top\">长江武汉航道工程�<br>�� ...</td>\n",
       "        <td style=\"padding-left: 1em; padding-right: 1em; text-align: center; vertical-align: top\">1</td>\n",
       "        <td style=\"padding-left: 1em; padding-right: 1em; text-align: center; vertical-align: top\">48152.5</td>\n",
       "    </tr>\n",
       "</table>\n",
       "<table frame=\"box\" rules=\"cols\">\n",
       "    <tr>\n",
       "        <th style=\"padding-left: 1em; padding-right: 1em; text-align: center\">seller</th>\n",
       "        <th style=\"padding-left: 1em; padding-right: 1em; text-align: center\">date</th>\n",
       "        <th style=\"padding-left: 1em; padding-right: 1em; text-align: center\">time</th>\n",
       "        <th style=\"padding-left: 1em; padding-right: 1em; text-align: center\">total_price</th>\n",
       "    </tr>\n",
       "    <tr>\n",
       "        <td style=\"padding-left: 1em; padding-right: 1em; text-align: center; vertical-align: top\">郑州嘉运达科技有�<br>��公司 ...</td>\n",
       "        <td style=\"padding-left: 1em; padding-right: 1em; text-align: center; vertical-align: top\">2016-06-13</td>\n",
       "        <td style=\"padding-left: 1em; padding-right: 1em; text-align: center; vertical-align: top\">08:51:36</td>\n",
       "        <td style=\"padding-left: 1em; padding-right: 1em; text-align: center; vertical-align: top\">34500.0</td>\n",
       "    </tr>\n",
       "    <tr>\n",
       "        <td style=\"padding-left: 1em; padding-right: 1em; text-align: center; vertical-align: top\">上海华胄网络科技�<br>��限公司 ...</td>\n",
       "        <td style=\"padding-left: 1em; padding-right: 1em; text-align: center; vertical-align: top\">2016-05-18</td>\n",
       "        <td style=\"padding-left: 1em; padding-right: 1em; text-align: center; vertical-align: top\">16:17:59</td>\n",
       "        <td style=\"padding-left: 1em; padding-right: 1em; text-align: center; vertical-align: top\">36950.0</td>\n",
       "    </tr>\n",
       "    <tr>\n",
       "        <td style=\"padding-left: 1em; padding-right: 1em; text-align: center; vertical-align: top\">南京柏华信息科技�<br>��限公司 ...</td>\n",
       "        <td style=\"padding-left: 1em; padding-right: 1em; text-align: center; vertical-align: top\">2016-03-30</td>\n",
       "        <td style=\"padding-left: 1em; padding-right: 1em; text-align: center; vertical-align: top\">11:47:34</td>\n",
       "        <td style=\"padding-left: 1em; padding-right: 1em; text-align: center; vertical-align: top\">34890.0</td>\n",
       "    </tr>\n",
       "    <tr>\n",
       "        <td style=\"padding-left: 1em; padding-right: 1em; text-align: center; vertical-align: top\">江苏元德信息技术�<br>��限公司 ...</td>\n",
       "        <td style=\"padding-left: 1em; padding-right: 1em; text-align: center; vertical-align: top\">2016-07-12</td>\n",
       "        <td style=\"padding-left: 1em; padding-right: 1em; text-align: center; vertical-align: top\">15:21:19</td>\n",
       "        <td style=\"padding-left: 1em; padding-right: 1em; text-align: center; vertical-align: top\">46300.0</td>\n",
       "    </tr>\n",
       "    <tr>\n",
       "        <td style=\"padding-left: 1em; padding-right: 1em; text-align: center; vertical-align: top\">北京博略顺和科技�<br>��限公司 ...</td>\n",
       "        <td style=\"padding-left: 1em; padding-right: 1em; text-align: center; vertical-align: top\">2016-06-20</td>\n",
       "        <td style=\"padding-left: 1em; padding-right: 1em; text-align: center; vertical-align: top\">16:29:31</td>\n",
       "        <td style=\"padding-left: 1em; padding-right: 1em; text-align: center; vertical-align: top\">48152.5</td>\n",
       "    </tr>\n",
       "    <tr>\n",
       "        <td style=\"padding-left: 1em; padding-right: 1em; text-align: center; vertical-align: top\">北京众和永业科技�<br>��展有限公司 ...</td>\n",
       "        <td style=\"padding-left: 1em; padding-right: 1em; text-align: center; vertical-align: top\">2016-05-12</td>\n",
       "        <td style=\"padding-left: 1em; padding-right: 1em; text-align: center; vertical-align: top\">17:06:20</td>\n",
       "        <td style=\"padding-left: 1em; padding-right: 1em; text-align: center; vertical-align: top\">48152.5</td>\n",
       "    </tr>\n",
       "    <tr>\n",
       "        <td style=\"padding-left: 1em; padding-right: 1em; text-align: center; vertical-align: top\">北京华航创新科技�<br>��限责任公司 ...</td>\n",
       "        <td style=\"padding-left: 1em; padding-right: 1em; text-align: center; vertical-align: top\">2016-05-03</td>\n",
       "        <td style=\"padding-left: 1em; padding-right: 1em; text-align: center; vertical-align: top\">14:46:14</td>\n",
       "        <td style=\"padding-left: 1em; padding-right: 1em; text-align: center; vertical-align: top\">48152.5</td>\n",
       "    </tr>\n",
       "    <tr>\n",
       "        <td style=\"padding-left: 1em; padding-right: 1em; text-align: center; vertical-align: top\">南京柏华信息科技�<br>��限公司 ...</td>\n",
       "        <td style=\"padding-left: 1em; padding-right: 1em; text-align: center; vertical-align: top\">2016-04-12</td>\n",
       "        <td style=\"padding-left: 1em; padding-right: 1em; text-align: center; vertical-align: top\">15:55:49</td>\n",
       "        <td style=\"padding-left: 1em; padding-right: 1em; text-align: center; vertical-align: top\">48000.0</td>\n",
       "    </tr>\n",
       "    <tr>\n",
       "        <td style=\"padding-left: 1em; padding-right: 1em; text-align: center; vertical-align: top\">南京柏华信息科技�<br>��限公司 ...</td>\n",
       "        <td style=\"padding-left: 1em; padding-right: 1em; text-align: center; vertical-align: top\">2016-04-12</td>\n",
       "        <td style=\"padding-left: 1em; padding-right: 1em; text-align: center; vertical-align: top\">15:55:10</td>\n",
       "        <td style=\"padding-left: 1em; padding-right: 1em; text-align: center; vertical-align: top\">31000.0</td>\n",
       "    </tr>\n",
       "    <tr>\n",
       "        <td style=\"padding-left: 1em; padding-right: 1em; text-align: center; vertical-align: top\">武汉英信科技有限�<br>��司 ...</td>\n",
       "        <td style=\"padding-left: 1em; padding-right: 1em; text-align: center; vertical-align: top\">2016-04-11</td>\n",
       "        <td style=\"padding-left: 1em; padding-right: 1em; text-align: center; vertical-align: top\">11:43:12</td>\n",
       "        <td style=\"padding-left: 1em; padding-right: 1em; text-align: center; vertical-align: top\">48152.5</td>\n",
       "    </tr>\n",
       "</table>\n",
       "[1073 rows x 12 columns]<br/>Note: Only the head of the SFrame is printed.<br/>You can use print_rows(num_rows=m, num_columns=n) to print more rows and columns.\n",
       "</div>"
      ],
      "text/plain": [
       "Columns:\n",
       "\tid\tint\n",
       "\tcategory\tstr\n",
       "\tbrand\tstr\n",
       "\ttype\tstr\n",
       "\tmodel\tstr\n",
       "\tbuyer\tstr\n",
       "\tnumber\tint\n",
       "\tprice\tfloat\n",
       "\tseller\tstr\n",
       "\tdate\tstr\n",
       "\ttime\tstr\n",
       "\ttotal_price\tfloat\n",
       "\n",
       "Rows: 1073\n",
       "\n",
       "Data:\n",
       "+---------+----------------+------------+-------+-------------------+\n",
       "|    id   |    category    |   brand    |  type |       model       |\n",
       "+---------+----------------+------------+-------+-------------------+\n",
       "| 3921667 | 塔式服务器高档 | inspur浪潮 | P8000 | inspur浪潮, P8000 |\n",
       "| 3921667 | 塔式服务器高档 | inspur浪潮 | P8000 | inspur浪潮, P8000 |\n",
       "| 3921667 | 塔式服务器高档 | inspur浪潮 | P8000 | inspur浪潮, P8000 |\n",
       "| 3921666 | 塔式服务器高档 | inspur浪潮 | P8000 | inspur浪潮, P8000 |\n",
       "| 3921666 | 塔式服务器高档 | inspur浪潮 | P8000 | inspur浪潮, P8000 |\n",
       "| 3921666 | 塔式服务器高档 | inspur浪潮 | P8000 | inspur浪潮, P8000 |\n",
       "| 3921666 | 塔式服务器高档 | inspur浪潮 | P8000 | inspur浪潮, P8000 |\n",
       "| 3921666 | 塔式服务器高档 | inspur浪潮 | P8000 | inspur浪潮, P8000 |\n",
       "| 3921666 | 塔式服务器高档 | inspur浪潮 | P8000 | inspur浪潮, P8000 |\n",
       "| 3921666 | 塔式服务器高档 | inspur浪潮 | P8000 | inspur浪潮, P8000 |\n",
       "+---------+----------------+------------+-------+-------------------+\n",
       "+-------------------------------------------------+--------+---------+\n",
       "|                      buyer                      | number |  price  |\n",
       "+-------------------------------------------------+--------+---------+\n",
       "|     黄河水利委员会三门峡库区水文水资源局...     |   1    | 34500.0 |\n",
       "|                     同济大学                    |   1    | 36950.0 |\n",
       "| 水利部交通运输部国家能源局南京水利科学研究院... |   1    | 34890.0 |\n",
       "| 水利部交通运输部国家能源局南京水利科学研究院... |   1    | 46300.0 |\n",
       "|                  北京外国语大学                 |   1    | 48152.5 |\n",
       "|                 北京航空航天大学                |   1    | 48152.5 |\n",
       "|                   北京交通大学                  |   1    | 48152.5 |\n",
       "|                   中国矿业大学                  |   1    | 48000.0 |\n",
       "|                   中国矿业大学                  |   1    | 31000.0 |\n",
       "|                长江武汉航道工程局               |   1    | 48152.5 |\n",
       "+-------------------------------------------------+--------+---------+\n",
       "+---------------------------------+------------+----------+-------------+\n",
       "|              seller             |    date    |   time   | total_price |\n",
       "+---------------------------------+------------+----------+-------------+\n",
       "|    郑州嘉运达科技有限公司...    | 2016-06-13 | 08:51:36 |   34500.0   |\n",
       "|   上海华胄网络科技有限公司...   | 2016-05-18 | 16:17:59 |   36950.0   |\n",
       "|   南京柏华信息科技有限公司...   | 2016-03-30 | 11:47:34 |   34890.0   |\n",
       "|   江苏元德信息技术有限公司...   | 2016-07-12 | 15:21:19 |   46300.0   |\n",
       "|   北京博略顺和科技有限公司...   | 2016-06-20 | 16:29:31 |   48152.5   |\n",
       "| 北京众和永业科技发展有限公司... | 2016-05-12 | 17:06:20 |   48152.5   |\n",
       "| 北京华航创新科技有限责任公司... | 2016-05-03 | 14:46:14 |   48152.5   |\n",
       "|   南京柏华信息科技有限公司...   | 2016-04-12 | 15:55:49 |   48000.0   |\n",
       "|   南京柏华信息科技有限公司...   | 2016-04-12 | 15:55:10 |   31000.0   |\n",
       "|       武汉英信科技有限公司      | 2016-04-11 | 11:43:12 |   48152.5   |\n",
       "+---------------------------------+------------+----------+-------------+\n",
       "[1073 rows x 12 columns]\n",
       "Note: Only the head of the SFrame is printed.\n",
       "You can use print_rows(num_rows=m, num_columns=n) to print more rows and columns."
      ]
     },
     "execution_count": 3,
     "metadata": {},
     "output_type": "execute_result"
    }
   ],
   "source": [
    "sales"
   ]
  },
  {
   "cell_type": "code",
   "execution_count": 4,
   "metadata": {
    "collapsed": false
   },
   "outputs": [],
   "source": [
    "sales['brand_type'] = sales['brand'] + ',' + sales['type']"
   ]
  },
  {
   "cell_type": "code",
   "execution_count": 15,
   "metadata": {
    "collapsed": false
   },
   "outputs": [],
   "source": [
    "my_features = ['category', 'buyer', 'seller', 'brand_type','total_price']"
   ]
  },
  {
   "cell_type": "code",
   "execution_count": 16,
   "metadata": {
    "collapsed": false
   },
   "outputs": [
    {
     "data": {
      "application/javascript": [
       "$(\"head\").append($(\"<link/>\").attr({\n",
       "  rel:  \"stylesheet\",\n",
       "  type: \"text/css\",\n",
       "  href: \"//cdnjs.cloudflare.com/ajax/libs/font-awesome/4.1.0/css/font-awesome.min.css\"\n",
       "}));\n",
       "$(\"head\").append($(\"<link/>\").attr({\n",
       "  rel:  \"stylesheet\",\n",
       "  type: \"text/css\",\n",
       "  href: \"//dato.com/files/canvas/1.10.1/css/canvas.css\"\n",
       "}));\n",
       "\n",
       "            (function(){\n",
       "\n",
       "                var e = null;\n",
       "                if (typeof element == 'undefined') {\n",
       "                    var scripts = document.getElementsByTagName('script');\n",
       "                    var thisScriptTag = scripts[scripts.length-1];\n",
       "                    var parentDiv = thisScriptTag.parentNode;\n",
       "                    e = document.createElement('div');\n",
       "                    parentDiv.appendChild(e);\n",
       "                } else {\n",
       "                    e = element[0];\n",
       "                }\n",
       "\n",
       "                if (typeof requirejs !== 'undefined') {\n",
       "                    // disable load timeout; ipython_app.js is large and can take a while to load.\n",
       "                    requirejs.config({waitSeconds: 0});\n",
       "                }\n",
       "\n",
       "                require(['//dato.com/files/canvas/1.10.1/js/ipython_app.js'], function(IPythonApp){\n",
       "                    var app = new IPythonApp();\n",
       "                    app.attachView('sframe','Summary', {\"ipython\": true, \"sketch\": {\"category\": {\"complete\": true, \"numeric\": false, \"num_unique\": 12, \"num_undefined\": 0, \"progress\": 1.0, \"frequent_items\": {\"\\ufffd\\ufffd\\ufffd\\ufffd\\ufffd\\ufffd\\ufffd\\ufffd\\ufffd\\ufffd\\ufffd\\ufffd\\ufffd\\ufffd\\ufffd\\ufffd\\ufffd\\ufffd\\ufffd\\ufffd\\ufffd\\ufffd\\ufffd\\ufffd\": {\"frequency\": 183, \"value\": \"\\u673a\\u67b6\\u5f0f\\u670d\\u52a1\\u5668\\u9ad8\\u6863\"}, \"\\ufffd\\ufffd\\ufffd\\ufffd\\ufffd\\ufffd\\ufffd\\ufffd\\ufffd\\ufffd\\ufffd\\ufffd\\ufffd\\ufffd\\ufffd\\ufffd\\ufffd\\ufffd\\ufffd\\ufffd\\ufffd\": {\"frequency\": 87, \"value\": \"\\u5854\\u5f0f\\u670d\\u52a1\\u5668\\u4f4e\\u6863\"}, \"\\ufffd\\ufffd\\ufffd\\ufffd\\ufffd\\ufffd\\ufffd\\ufffd\\ufffd\\ufffd\\ufffd\\ufffd\\ufffd\\ufffd\\ufffd\\ufffd\\ufffd\\ufffd\\ufffd\\ufffd\\ufffd\\ufffd\\ufffd\\ufffd\\ufffd\\ufffd\\ufffd\\ufffd\\ufffd\\ufffd\": {\"frequency\": 273, \"value\": \"\\u673a\\u67b6\\u5f0f\\u670d\\u52a1\\u5668\\u4e2d\\u3001\\u4f4e\\u6863\"}, \"UNIX\\ufffd\\ufffd\\ufffd\\ufffd\\ufffd\\ufffd\\ufffd\\ufffd\\ufffd\": {\"frequency\": 16, \"value\": \"UNIX\\u670d\\u52a1\\u5668\"}, \"GPU\\ufffd\\ufffd\\ufffd\\ufffd\\ufffd\\ufffd\\ufffd\\ufffd\\ufffd\\ufffd\\ufffd\\ufffd\\ufffd\\ufffd\\ufffd\\ufffd\\ufffd\\ufffd\\ufffd\\ufffd\\ufffd\\ufffd\\ufffd\\ufffd\\ufffd\\ufffd\\ufffd\": {\"frequency\": 91, \"value\": \"GPU\\u5e76\\u884c\\u8fd0\\u7b97\\u670d\\u52a1\\u5668\\u9ad8\\u6863\"}, \"GPU\\ufffd\\ufffd\\ufffd\\ufffd\\ufffd\\ufffd\\ufffd\\ufffd\\ufffd\\ufffd\\ufffd\\ufffd\\ufffd\\ufffd\\ufffd\\ufffd\\ufffd\\ufffd\\ufffd\\ufffd\\ufffd\\ufffd\\ufffd\\ufffd\\ufffd\\ufffd\\ufffd\\ufffd\\ufffd\\ufffd\\ufffd\\ufffd\\ufffd\": {\"frequency\": 68, \"value\": \"GPU\\u5e76\\u884c\\u8fd0\\u7b97\\u670d\\u52a1\\u5668\\u4e2d\\u3001\\u4f4e\\u6863\"}, \"MIC\\ufffd\\ufffd\\ufffd\\ufffd\\ufffd\\ufffd\\ufffd\\ufffd\\ufffd\\ufffd\\ufffd\\ufffd\\ufffd\\ufffd\\ufffd\": {\"frequency\": 41, \"value\": \"MIC\\u5e76\\u884c\\u670d\\u52a1\\u5668\"}}, \"size\": 1073}, \"buyer\": {\"complete\": true, \"numeric\": false, \"num_unique\": 518, \"num_undefined\": 0, \"progress\": 1.0, \"frequent_items\": {\"\\ufffd\\ufffd\\ufffd\\ufffd\\ufffd\\ufffd\\ufffd\\ufffd\\ufffd\\ufffd\\ufffd\\ufffd\\ufffd\\ufffd\\ufffd\\ufffd\\ufffd\\ufffd\\ufffd\\ufffd\\ufffd\\ufffd\\ufffd\\ufffd\\ufffd\\ufffd\\ufffd\\ufffd\\ufffd\\ufffd\\ufffd\\ufffd\\ufffd\\ufffd\\ufffd\\ufffd\\ufffd\\ufffd\\ufffd\": {\"frequency\": 1, \"value\": \"\\u4e2d\\u56fd\\u79d1\\u5b66\\u9662\\u5de5\\u7a0b\\u70ed\\u7269\\u7406\\u7814\\u7a76\\u6240\"}, \"\\ufffd\\ufffd\\ufffd\\ufffd\\ufffd\\ufffd\\ufffd\\ufffd\\ufffd\\ufffd\\ufffd\\ufffd\\ufffd\\ufffd\\ufffd\\ufffd\\ufffd\\ufffd\\ufffd\\ufffd\\ufffd\": {\"frequency\": 1, \"value\": \"\\u4e0a\\u6d77\\u4e2d\\u5fc3\\u6c14\\u8c61\\u53f0\"}, \"\\ufffd\\ufffd\\ufffd\\ufffd\\ufffd\\ufffd\\ufffd\\ufffd\\ufffd\\ufffd\\ufffd\\ufffd\\ufffd\\ufffd\\ufffd\\ufffd\\ufffd\\ufffd\\ufffd\\ufffd\\ufffd\\ufffd\\ufffd\\ufffd\\ufffd\\ufffd\\ufffd\\ufffd\\ufffd\\ufffd\\ufffd\\ufffd\\ufffd\\ufffd\\ufffd\\ufffd\\ufffd\\ufffd\\ufffd\\ufffd\\ufffd\\ufffd\\ufffd\\ufffd\\ufffd\\ufffd\\ufffd\\ufffd\\ufffd\\ufffd\\ufffd\": {\"frequency\": 9, \"value\": \"\\u5de5\\u4e1a\\u548c\\u4fe1\\u606f\\u5316\\u90e8\\u7535\\u5b50\\u5de5\\u4e1a\\u6807\\u51c6\\u5316\\u7814\\u7a76\\u9662\"}, \"\\ufffd\\ufffd\\ufffd\\ufffd\\ufffd\\ufffd\\ufffd\\ufffd\\ufffd\\ufffd\\ufffd\\ufffd\\ufffd\\ufffd\\ufffd\\ufffd\\ufffd\\ufffd\": {\"frequency\": 3, \"value\": \"\\u4e2d\\u56fd\\u519c\\u4e1a\\u5927\\u5b66\"}, \"\\ufffd\\ufffd\\ufffd\\ufffd\\ufffd\\ufffd\\ufffd\\ufffd\\ufffd\\ufffd\\ufffd\\ufffd\\ufffd\\ufffd\\ufffd\\ufffd\\ufffd\\ufffd\\ufffd\\ufffd\\ufffd\\ufffd\\ufffd\\ufffd-\\ufffd\\ufffd\\ufffd\\ufffd\\ufffd\\ufffd\": {\"frequency\": 1, \"value\": \"\\u5357\\u4eac\\u822a\\u7a7a\\u822a\\u5929\\u5927\\u5b66-\\u4e8c\\u9662\"}, \"\\ufffd\\ufffd\\ufffd\\ufffd\\ufffd\\ufffd\\ufffd\\ufffd\\ufffd\\ufffd\\ufffd\\ufffd\\ufffd\\ufffd\\ufffd\\ufffd\\ufffd\\ufffd\\ufffd\\ufffd\\ufffd\\ufffd\\ufffd\\ufffd\\ufffd\\ufffd\\ufffd\\ufffd\\ufffd\\ufffd\\ufffd\\ufffd\\ufffd\\ufffd\\ufffd\\ufffd\\ufffd\\ufffd\\ufffd\\ufffd\\ufffd\\ufffd\\ufffd\\ufffd\\ufffd\\ufffd\\ufffd\\ufffd\\ufffd\\ufffd\\ufffd\\ufffd\\ufffd\\ufffd\": {\"frequency\": 1, \"value\": \"\\u56fd\\u5bb6\\u536b\\u751f\\u8ba1\\u751f\\u59d4\\u536b\\u751f\\u548c\\u8ba1\\u5212\\u751f\\u80b2\\u76d1\\u7763\\u4e2d\\u5fc3\"}, \"\\ufffd\\ufffd\\ufffd\\ufffd\\ufffd\\ufffd\\ufffd\\ufffd\\ufffd\\ufffd\\ufffd\\ufffd\\ufffd\\ufffd\\ufffd\\ufffd\\ufffd\\ufffd\\ufffd\\ufffd\\ufffd\\ufffd\\ufffd\\ufffd(\\ufffd\\ufffd\\ufffd\\ufffd\\ufffd\\ufffd\\ufffd\\ufffd\\ufffd\\ufffd\\ufffd\\ufffd\": {\"frequency\": 1, \"value\": \"\\u5357\\u4eac\\u822a\\u7a7a\\u822a\\u5929\\u5927\\u5b66(\\u5341\\u516d\\u9662\\uff09\"}, \"\\ufffd\\ufffd\\ufffd\\ufffd\\ufffd\\ufffd\\ufffd\\ufffd\\ufffd\\ufffd\\ufffd\\ufffd\\ufffd\\ufffd\\ufffd\\ufffd\\ufffd\\ufffd\\ufffd\\ufffd\\ufffd\\ufffd\\ufffd\\ufffd\\ufffd\\ufffd\\ufffd\\ufffd\\ufffd\\ufffd\\ufffd\\ufffd\\ufffd0\\ufffd\\ufffd\\ufffd\\ufffd\\ufffd\\ufffd\\ufffd\\ufffd\\ufffd\": {\"frequency\": 3, \"value\": \"\\u56fd\\u5bb6\\u65b0\\u95fb\\u51fa\\u7248\\u5e7f\\u7535\\u603b\\u5c40\\u4e8c0\\u4e8c\\u56db\\u53f0\"}, \"\\ufffd\\ufffd\\ufffd\\ufffd\\ufffd\\ufffd\\ufffd\\ufffd\\ufffd\\ufffd\\ufffd\\ufffd\\ufffd\\ufffd\\ufffd\\ufffd\\ufffd\\ufffd\\ufffd\\ufffd\\ufffd\\ufffd\\ufffd\\ufffd\\ufffd\\ufffd\\ufffd\": {\"frequency\": 1, \"value\": \"\\u65b0\\u534e\\u7f51\\u80a1\\u4efd\\u6709\\u9650\\u516c\\u53f8\"}, \"\\ufffd\\ufffd\\ufffd\\ufffd\\ufffd\\ufffd\\ufffd\\ufffd\\ufffd\\ufffd\\ufffd\\ufffd\\ufffd\\ufffd\\ufffd\\ufffd\\ufffd\\ufffd\\ufffd\\ufffd\\ufffd\\ufffd\\ufffd\\ufffd\\ufffd\\ufffd\\ufffd\\ufffd\\ufffd\\ufffd\": {\"frequency\": 1, \"value\": \"\\u4e2d\\u5c71\\u5927\\u5b66\\u9644\\u5c5e\\u80bf\\u7624\\u533b\\u9662\"}, \"\\ufffd\\ufffd\\ufffd\\ufffd\\ufffd\\ufffd\\ufffd\\ufffd\\ufffd\\ufffd\\ufffd\\ufffd\": {\"frequency\": 3, \"value\": \"\\u4e2d\\u5317\\u5927\\u5b66\"}, \"\\ufffd\\ufffd\\ufffd\\ufffd\\ufffd\\ufffd\\ufffd\\ufffd\\ufffd\\ufffd\\ufffd\\ufffd\\ufffd\\ufffd\\ufffd\\ufffd\\ufffd\\ufffd\\ufffd\\ufffd\\ufffd\\ufffd\\ufffd\\ufffd\\ufffd\\ufffd\\ufffd\\ufffd\\ufffd\\ufffd\\ufffd\\ufffd\\ufffd\\ufffd\\ufffd\\ufffd\\ufffd\\ufffd\\ufffd\\ufffd\\ufffd\\ufffd\": {\"frequency\": 1, \"value\": \"\\u5c71\\u897f\\u7701\\u4ea4\\u901a\\u79d1\\u5b66\\u6280\\u672f\\u4fe1\\u606f\\u4e2d\\u5fc3\\u7ad9\"}, \"\\ufffd\\ufffd\\ufffd\\ufffd\\ufffd\\ufffd\\ufffd\\ufffd\\ufffd\\ufffd\\ufffd\\ufffd\\ufffd\\ufffd\\ufffd\\ufffd\\ufffd\\ufffd\\ufffd\\ufffd\\ufffd\\ufffd\\ufffd\\ufffd\\ufffd\\ufffd\\ufffd\\ufffd\\ufffd\\ufffd\\ufffd\\ufffd\\ufffd\": {\"frequency\": 3, \"value\": \"\\u56fd\\u571f\\u8d44\\u6e90\\u90e8\\u571f\\u5730\\u6574\\u6cbb\\u4e2d\\u5fc3\"}, \"\\ufffd\\ufffd\\ufffd\\ufffd\\ufffd\\ufffd\\ufffd\\ufffd\\ufffd\\ufffd\\ufffd\\ufffd\\ufffd\\ufffd\\ufffd\\ufffd\\ufffd\\ufffd\\ufffd\\ufffd\\ufffd\\ufffd\\ufffd\\ufffd\\ufffd\\ufffd\\ufffd\\ufffd\\ufffd\\ufffd\\ufffd\\ufffd\\ufffd\\ufffd\\ufffd\\ufffd\\ufffd\\ufffd\\ufffd\\ufffd\\ufffd\\ufffd\\ufffd\\ufffd\\ufffd\\ufffd\\ufffd\\ufffd\": {\"frequency\": 1, \"value\": \"\\u9ec4\\u6cb3\\u6c34\\u5229\\u59d4\\u5458\\u4f1a\\u9ec4\\u6cb3\\u6c34\\u5229\\u79d1\\u5b66\\u7814\\u7a76\\u9662\"}, \"\\ufffd\\ufffd\\ufffd\\ufffd\\ufffd\\ufffd\\ufffd\\ufffd\\ufffd\\ufffd\\ufffd\\ufffd\\ufffd\\ufffd\\ufffd\\ufffd\\ufffd\\ufffd\\ufffd\\ufffd\\ufffd\\ufffd\\ufffd\\ufffd\": {\"frequency\": 2, \"value\": \"\\u519c\\u4e1a\\u90e8\\u519c\\u836f\\u68c0\\u5b9a\\u6240\"}, \"\\ufffd\\ufffd\\ufffd\\ufffd\\ufffd\\ufffd\\ufffd\\ufffd\\ufffd\\ufffd\\ufffd\\ufffd\\ufffd\\ufffd\\ufffd\\ufffd\\ufffd\\ufffd\\ufffd\\ufffd\\ufffd\\ufffd\\ufffd\\ufffd\\ufffd\\ufffd\\ufffd\\ufffd\\ufffd\\ufffd\\ufffd\\ufffd\\ufffd\\ufffd\\ufffd\\ufffd\\ufffd\\ufffd\\ufffd\\ufffd\\ufffd\\ufffd\\ufffd\\ufffd\\ufffd\": {\"frequency\": 5, \"value\": \"\\u4e2d\\u56fd\\u79d1\\u5b66\\u9662\\u9065\\u611f\\u4e0e\\u6570\\u5b57\\u5730\\u7403\\u7814\\u7a76\\u6240\"}, \"\\ufffd\\ufffd\\ufffd\\ufffd\\ufffd\\ufffd\\ufffd\\ufffd\\ufffd\\ufffd\\ufffd\\ufffd\\ufffd\\ufffd\\ufffd\\ufffd\\ufffd\\ufffd\\ufffd\\ufffd\\ufffd\\ufffd\\ufffd\\ufffd\\ufffd\\ufffd\\ufffd\\ufffd\\ufffd\\ufffd\\ufffd\\ufffd\\ufffd\\ufffd\\ufffd\\ufffd\\ufffd\\ufffd\\ufffd\\ufffd\\ufffd\\ufffd\\ufffd\\ufffd\\ufffd\\ufffd\\ufffd\\ufffd\\ufffd\\ufffd\\ufffd\\ufffd\\ufffd\\ufffd\\ufffd\\ufffd\\ufffd\\ufffd\\ufffd\\ufffd\\ufffd\\ufffd\\ufffd\\ufffd\\ufffd\\ufffd\": {\"frequency\": 1, \"value\": \"\\u4e2d\\u56fd\\u75be\\u75c5\\u9884\\u9632\\u63a7\\u5236\\u4e2d\\u5fc3\\u73af\\u5883\\u4e0e\\u5065\\u5eb7\\u76f8\\u5173\\u4ea7 ...\"}, \"\\ufffd\\ufffd\\ufffd\\ufffd\\ufffd\\ufffd\\ufffd\\ufffd\\ufffd\": {\"frequency\": 1, \"value\": \"\\u7279\\u4f1a\\u5ba4\"}, \"\\ufffd\\ufffd\\ufffd\\ufffd\\ufffd\\ufffd\\ufffd\\ufffd\\ufffd\\ufffd\\ufffd\\ufffd\\ufffd\\ufffd\\ufffd\\ufffd\\ufffd\\ufffd\\ufffd\\ufffd\\ufffd\\ufffd\\ufffd\\ufffd\\ufffd\\ufffd\\ufffd\\ufffd\\ufffd\\ufffd\\ufffd\\ufffd\\ufffd\\ufffd\\ufffd\\ufffd\\ufffd\\ufffd\\ufffd\\ufffd\\ufffd\\ufffd\\ufffd\\ufffd\\ufffd\\ufffd\\ufffd\\ufffd\\ufffd\\ufffd\\ufffd\\ufffd\\ufffd\\ufffd\\ufffd\\ufffd\\ufffd\": {\"frequency\": 1, \"value\": \"\\u6700\\u9ad8\\u4eba\\u6c11\\u68c0\\u5bdf\\u9662\\u8ba1\\u5212\\u8d22\\u52a1\\u88c5\\u5907\\u5c40\\u5668\\u6750\\u88c5\\u5907 ...\"}, \"\\ufffd\\ufffd\\ufffd\\ufffd\\ufffd\\ufffd\\ufffd\\ufffd\\ufffd\\ufffd\\ufffd\\ufffd\\ufffd\\ufffd\\ufffd\\ufffd\\ufffd\\ufffd\\ufffd\\ufffd\\ufffd\\ufffd\\ufffd\\ufffd\\ufffd\\ufffd\\ufffd\\ufffd\\ufffd\\ufffd\\ufffd\\ufffd\\ufffd\\ufffd\\ufffd\\ufffd\": {\"frequency\": 1, \"value\": \"\\u4e2d\\u534e\\u4eba\\u6c11\\u5171\\u548c\\u56fd\\u6c55\\u5c3e\\u6d77\\u4e8b\\u5c40\"}, \"\\ufffd\\ufffd\\ufffd\\ufffd\\ufffd\\ufffd\\ufffd\\ufffd\\ufffd\\ufffd\\ufffd\\ufffd\\ufffd\\ufffd\\ufffd\\ufffd\\ufffd\\ufffd\\ufffd\\ufffd\\ufffd\\ufffd\\ufffd\\ufffd\\ufffd\\ufffd\\ufffd\\ufffd\\ufffd\\ufffd\\ufffd\\ufffd\\ufffd\\ufffd\\ufffd\\ufffd\\ufffd\\ufffd\\ufffd\\ufffd\\ufffd\\ufffd\\ufffd\\ufffd\\ufffd\\ufffd\\ufffd\\ufffd\\ufffd\\ufffd\\ufffd\\ufffd\\ufffd\\ufffd\\ufffd\\ufffd\\ufffd\\ufffd\\ufffd\\ufffd\\ufffd\\ufffd\\ufffd\\ufffd\\ufffd\\ufffd\\ufffd\\ufffd\\ufffd\\ufffd\\ufffd\\ufffd\\ufffd\\ufffd\\ufffd\\ufffd\\ufffd\\ufffd\\ufffd\\ufffd\\ufffd\\ufffd\\ufffd\\ufffd\\ufffd\\ufffd\\ufffd\\ufffd\\ufffd\\ufffd\": {\"frequency\": 1, \"value\": \"\\u5de5\\u4e1a\\u548c\\u4fe1\\u606f\\u5316\\u90e8\\u8ba1\\u7b97\\u673a\\u4e0e\\u5fae\\u7535\\u5b50\\u53d1\\u5c55\\u7814\\u7a76 ...\"}, \"\\ufffd\\ufffd\\ufffd\\ufffd\\ufffd\\ufffd\\ufffd\\ufffd\\ufffd\\ufffd\\ufffd\\ufffd\\ufffd\\ufffd\\ufffd\\ufffd\\ufffd\\ufffd\\ufffd\\ufffd\\ufffd\\ufffd\\ufffd\\ufffd\\ufffd\\ufffd\\ufffd\\ufffd\\ufffd\\ufffd\\ufffd\\ufffd\\ufffd\\ufffd\\ufffd\\ufffd\\ufffd\\ufffd\\ufffd\\ufffd\\ufffd\\ufffd\\ufffd\\ufffd\\ufffd\\ufffd\\ufffd\\ufffd\\ufffd\\ufffd\\ufffd\\ufffd\\ufffd\\ufffd\\ufffd\\ufffd\\ufffd\\ufffd\\ufffd\\ufffd\\ufffd\\ufffd\\ufffd\\ufffd\\ufffd\\ufffd\\ufffd\\ufffd\\ufffd\": {\"frequency\": 1, \"value\": \"\\u4e2d\\u534e\\u4eba\\u6c11\\u5171\\u548c\\u56fd\\u6cb3\\u5317\\u51fa\\u5165\\u5883\\u68c0\\u9a8c\\u68c0\\u75ab\\u5c40\\u4eac ...\"}, \"\\ufffd\\ufffd\\ufffd\\ufffd\\ufffd\\ufffd\\ufffd\\ufffd\\ufffd\\ufffd\\ufffd\\ufffd\\ufffd\\ufffd\\ufffd\\ufffd\\ufffd\\ufffd(\\ufffd\\ufffd\\ufffd\\ufffd\\ufffd\\ufffd)\": {\"frequency\": 1, \"value\": \"\\u4e2d\\u56fd\\u5730\\u8d28\\u5927\\u5b66(\\u5317\\u4eac)\"}, \"\\ufffd\\ufffd\\ufffd\\ufffd\\ufffd\\ufffd\\ufffd\\ufffd\\ufffd\\ufffd\\ufffd\\ufffd\\ufffd\\ufffd\\ufffd\\ufffd\\ufffd\\ufffd\\ufffd\\ufffd\\ufffd\\ufffd\\ufffd\\ufffd\\ufffd\\ufffd\\ufffd\\ufffd\\ufffd\\ufffd\\ufffd\\ufffd\\ufffd\\ufffd\\ufffd\\ufffd\\ufffd\\ufffd\\ufffd\\ufffd\\ufffd\\ufffd\\ufffd\\ufffd\\ufffd\\ufffd\\ufffd\\ufffd\\ufffd\\ufffd\\ufffd\\ufffd\\ufffd\\ufffd\\ufffd\\ufffd\\ufffd\\ufffd\\ufffd\\ufffd\\ufffd\\ufffd\\ufffd\\ufffd\\ufffd\\ufffd\\ufffd\\ufffd\\ufffd\\ufffd\\ufffd\\ufffd\": {\"frequency\": 1, \"value\": \"\\u4e2d\\u56fd\\u75be\\u75c5\\u9884\\u9632\\u63a7\\u5236\\u4e2d\\u5fc3\\u6162\\u6027\\u975e\\u4f20\\u67d3\\u6027\\u75be\\u75c5 ...\"}, \"\\ufffd\\ufffd\\ufffd\\ufffd\\ufffd\\ufffd\\ufffd\\ufffd\\ufffd\\ufffd\\ufffd\\ufffd\\ufffd\\ufffd\\ufffd\\ufffd\\ufffd\\ufffd\\ufffd\\ufffd\\ufffd\\ufffd\\ufffd\\ufffd\\ufffd\\ufffd\\ufffd\\ufffd\\ufffd\\ufffd\\ufffd\\ufffd\\ufffd\\ufffd\\ufffd\\ufffd\\ufffd\\ufffd\\ufffd\\ufffd\\ufffd\\ufffd\\ufffd\\ufffd\\ufffd\\ufffd\\ufffd\\ufffd\\ufffd\\ufffd\\ufffd\\ufffd\\ufffd\\ufffd\\ufffd\\ufffd\\ufffd\\ufffd\\ufffd\\ufffd\": {\"frequency\": 1, \"value\": \"\\u957f\\u6c5f\\u6c34\\u5229\\u59d4\\u5458\\u4f1a\\u957f\\u6c5f\\u6d41\\u57df\\u6c34\\u571f\\u4fdd\\u6301\\u76d1\\u6d4b\\u4e2d ...\"}, \"\\ufffd\\ufffd\\ufffd\\ufffd\\ufffd\\ufffd1318\\ufffd\\ufffd\\ufffd\\ufffd\\ufffd\\ufffd\": {\"frequency\": 9, \"value\": \"\\u5317\\u4eac1318\\u5355\\u4f4d\"}, \"\\ufffd\\ufffd\\ufffd\\ufffd\\ufffd\\ufffd\\ufffd\\ufffd\\ufffd\\ufffd\\ufffd\\ufffd\\ufffd\\ufffd\\ufffd\\ufffd\\ufffd\\ufffd\\ufffd\\ufffd\\ufffd\\ufffd\\ufffd\\ufffd\\ufffd\\ufffd\\ufffd\\ufffd\\ufffd\\ufffd\\ufffd\\ufffd\\ufffd\\ufffd\\ufffd\\ufffd\\ufffd\\ufffd\\ufffd\\ufffd\\ufffd\\ufffd\\ufffd\\ufffd\\ufffd\\ufffd\\ufffd\\ufffd\\ufffd\\ufffd\\ufffd\\ufffd\\ufffd\\ufffd\\ufffd\\ufffd\\ufffd\\ufffd\\ufffd\\ufffd\\ufffd\\ufffd\\ufffd\\ufffd\\ufffd\\ufffd\\ufffd\\ufffd\\ufffd\\ufffd\\ufffd\\ufffd\\ufffd\\ufffd\\ufffd\\ufffd\\ufffd\\ufffd\": {\"frequency\": 2, \"value\": \"\\u592a\\u6e56\\u6d41\\u57df\\u6c34\\u6587\\u6c34\\u8d44\\u6e90\\u76d1\\u6d4b\\u4e2d\\u5fc3\\uff08\\u592a\\u6e56\\u6d41\\u57df ...\"}, \"\\ufffd\\ufffd\\ufffd\\ufffd\\ufffd\\ufffd\\ufffd\\ufffd\\ufffd\\ufffd\\ufffd\\ufffd\\ufffd\\ufffd\\ufffd\\ufffd\\ufffd\\ufffd\\ufffd\\ufffd\\ufffd\\ufffd\\ufffd\\ufffd(\\ufffd\\ufffd\\ufffd\\ufffd\\ufffd\\ufffd\\ufffd\\ufffd\\ufffd\": {\"frequency\": 1, \"value\": \"\\u5357\\u4eac\\u822a\\u7a7a\\u822a\\u5929\\u5927\\u5b66(\\u4e8c\\u9662\\uff09\"}, \"\\ufffd\\ufffd\\ufffd\\ufffd\\ufffd\\ufffd\\ufffd\\ufffd\\ufffd\\ufffd\\ufffd\\ufffd\\ufffd\\ufffd\\ufffd\": {\"frequency\": 1, \"value\": \"\\u4e2d\\u56fd\\u519c\\u5b66\\u4f1a\"}, \"\\ufffd\\ufffd\\ufffd\\ufffd\\ufffd\\ufffd\\ufffd\\ufffd\\ufffd\\ufffd\\ufffd\\ufffd\\ufffd\\ufffd\\ufffd\\ufffd\\ufffd\\ufffd\\ufffd\\ufffd\\ufffd\\ufffd\\ufffd\\ufffd\\ufffd\\ufffd\\ufffd\\ufffd\\ufffd\\ufffd\\ufffd\\ufffd\\ufffd\\ufffd\\ufffd\\ufffd\\ufffd\\ufffd\\ufffd\\ufffd\\ufffd\\ufffd\\ufffd\\ufffd\\ufffd\\ufffd\\ufffd\\ufffd\\ufffd\\ufffd\\ufffd\\ufffd\\ufffd\\ufffd\\ufffd\\ufffd\\ufffd\\ufffd\\ufffd\\ufffd\\ufffd\\ufffd\\ufffd\": {\"frequency\": 1, \"value\": \"\\u4e2d\\u56fd\\u6c11\\u7528\\u822a\\u7a7a\\u897f\\u5357\\u5730\\u533a\\u7a7a\\u4e2d\\u4ea4\\u901a\\u7ba1\\u7406\\u5c40\\u4e91 ...\"}, \"\\ufffd\\ufffd\\ufffd\\ufffd\\ufffd\\ufffd\\ufffd\\ufffd\\ufffd\\ufffd\\ufffd\\ufffd\\ufffd\\ufffd\\ufffd\\ufffd\\ufffd\\ufffd\\ufffd\\ufffd\\ufffd\\ufffd\\ufffd\\ufffd\\ufffd\\ufffd\\ufffd\\ufffd\\ufffd\\ufffd\\ufffd\\ufffd\\ufffd\\ufffd\\ufffd\\ufffd\\ufffd\\ufffd\\ufffd\\ufffd\\ufffd\\ufffd\\ufffd\\ufffd\\ufffd\\ufffd\\ufffd\\ufffd\\ufffd\\ufffd\\ufffd\\ufffd\\ufffd\\ufffd\\ufffd\\ufffd\\ufffd\\ufffd\\ufffd\\ufffd\\ufffd\\ufffd\\ufffd\\ufffd\\ufffd\\ufffd\\ufffd\\ufffd\\ufffd\\ufffd\\ufffd\\ufffd\\ufffd\\ufffd\\ufffd\\ufffd\\ufffd\\ufffd\\ufffd\\ufffd\\ufffd\\ufffd\\ufffd\\ufffd\\ufffd\\ufffd\\ufffd\\ufffd\\ufffd\\ufffd\\ufffd\\ufffd\\ufffd\\ufffd\\ufffd\\ufffd\\ufffd\\ufffd\\ufffd\\ufffd\\ufffd\\ufffd\": {\"frequency\": 1, \"value\": \"\\u56fd\\u5bb6\\u6d4b\\u7ed8\\u5730\\u7406\\u4fe1\\u606f\\u5c40\\u7b2c\\u4e09\\u5730\\u7406\\u4fe1\\u606f\\u5236\\u56fe\\u9662 ...\"}, \"1038\\ufffd\\ufffd\\ufffd\\ufffd\\ufffd\\ufffd\": {\"frequency\": 1, \"value\": \"1038\\u5355\\u4f4d\"}}, \"size\": 1073}, \"total_price\": {\"std\": 120846.51847859293, \"complete\": true, \"min\": 2040.0, \"max\": 855344.0, \"quantile\": [2040.0, 8539.0, 8683.0, 8700.0, 11682.0, 12390.0, 12392.0, 12400.0, 12800.0, 15401.0, 15735.0, 16296.0, 16296.0, 16913.0, 17420.0, 18703.0, 19737.0, 19737.0, 22048.0, 22209.0, 22414.0, 23313.0, 23364.0, 23810.0, 24030.0, 24600.0, 24954.0, 25000.0, 25030.0, 26160.0, 26970.26, 27437.0, 28239.0, 28937.0, 29158.0, 29418.0, 29770.0, 30311.0, 30636.0, 32206.0, 32592.0, 33615.0, 34680.0, 38150.0, 38636.0, 38636.0, 38741.0, 39474.0, 39600.0, 45500.0, 47400.0, 47433.0, 48068.0, 49908.0, 50190.0, 51255.0, 51546.0, 54880.0, 56500.0, 58836.0, 59540.0, 62200.0, 62590.0, 63594.0, 69000.0, 70900.0, 74500.0, 76854.0, 79002.5, 83309.0, 88254.0, 89969.0, 93352.0, 96152.0, 102313.0, 106918.0, 111034.0, 113000.0, 118040.0, 125840.0, 135000.0, 142299.0, 149000.0, 158005.0, 168000.0, 179938.0, 186417.1, 194561.0, 198321.0, 215762.08, 224700.0, 240000.0, 260640.0, 279625.65, 330564.0, 354500.0, 389122.0, 432000.0, 499602.0, 618724.0, 855344.0], \"median\": 47400.0, \"numeric\": true, \"num_unique\": 504, \"num_undefined\": 0, \"var\": 14603881028.396902, \"progress\": 1.0, \"size\": 1073, \"frequent_items\": {\"48152.5\": {\"frequency\": 6, \"value\": 48152.5}, \"28267.5\": {\"frequency\": 2, \"value\": 28267.5}, \"389122.0\": {\"frequency\": 6, \"value\": 389122.0}, \"583683.0\": {\"frequency\": 2, \"value\": 583683.0}, \"778244.0\": {\"frequency\": 1, \"value\": 778244.0}, \"47110.0\": {\"frequency\": 4, \"value\": 47110.0}, \"194561.0\": {\"frequency\": 7, \"value\": 194561.0}, \"8200.0\": {\"frequency\": 1, \"value\": 8200.0}, \"94220.0\": {\"frequency\": 1, \"value\": 94220.0}, \"170000.0\": {\"frequency\": 2, \"value\": 170000.0}, \"210964.0\": {\"frequency\": 1, \"value\": 210964.0}, \"24600.0\": {\"frequency\": 3, \"value\": 24600.0}, \"16730.0\": {\"frequency\": 1, \"value\": 16730.0}, \"499602.0\": {\"frequency\": 2, \"value\": 499602.0}, \"370720.0\": {\"frequency\": 1, \"value\": 370720.0}, \"19001.56\": {\"frequency\": 4, \"value\": 19001.56}, \"63530.0\": {\"frequency\": 3, \"value\": 63530.0}, \"186416.0\": {\"frequency\": 1, \"value\": 186416.0}, \"186417.0\": {\"frequency\": 1, \"value\": 186417.0}, \"12340.0\": {\"frequency\": 1, \"value\": 12340.0}, \"51255.0\": {\"frequency\": 4, \"value\": 51255.0}, \"6200.0\": {\"frequency\": 2, \"value\": 6200.0}, \"103092.0\": {\"frequency\": 1, \"value\": 103092.0}, \"432000.0\": {\"frequency\": 2, \"value\": 432000.0}, \"168000.0\": {\"frequency\": 1, \"value\": 168000.0}, \"67652.0\": {\"frequency\": 1, \"value\": 67652.0}, \"104520.0\": {\"frequency\": 1, \"value\": 104520.0}, \"34890.0\": {\"frequency\": 1, \"value\": 34890.0}, \"127060.0\": {\"frequency\": 1, \"value\": 127060.0}, \"36950.0\": {\"frequency\": 1, \"value\": 36950.0}, \"76006.24\": {\"frequency\": 1, \"value\": 76006.24}, \"251998.0\": {\"frequency\": 1, \"value\": 251998.0}, \"139360.0\": {\"frequency\": 1, \"value\": 139360.0}, \"47205.0\": {\"frequency\": 1, \"value\": 47205.0}, \"514150.0\": {\"frequency\": 2, \"value\": 514150.0}, \"12392.0\": {\"frequency\": 15, \"value\": 12392.0}, \"63594.0\": {\"frequency\": 1, \"value\": 63594.0}, \"59500.0\": {\"frequency\": 1, \"value\": 59500.0}, \"50124.0\": {\"frequency\": 1, \"value\": 50124.0}, \"12400.0\": {\"frequency\": 3, \"value\": 12400.0}, \"309362.0\": {\"frequency\": 1, \"value\": 309362.0}, \"75900.0\": {\"frequency\": 1, \"value\": 75900.0}, \"47400.0\": {\"frequency\": 1, \"value\": 47400.0}, \"135304.0\": {\"frequency\": 1, \"value\": 135304.0}, \"59540.0\": {\"frequency\": 5, \"value\": 59540.0}, \"186520.0\": {\"frequency\": 1, \"value\": 186520.0}, \"204960.0\": {\"frequency\": 1, \"value\": 204960.0}, \"14500.0\": {\"frequency\": 3, \"value\": 14500.0}, \"153765.0\": {\"frequency\": 2, \"value\": 153765.0}, \"102570.0\": {\"frequency\": 1, \"value\": 102570.0}, \"112812.0\": {\"frequency\": 2, \"value\": 112812.0}, \"26800.0\": {\"frequency\": 1, \"value\": 26800.0}, \"51380.0\": {\"frequency\": 1, \"value\": 51380.0}, \"125110.0\": {\"frequency\": 1, \"value\": 125110.0}, \"35000.0\": {\"frequency\": 1, \"value\": 35000.0}, \"88254.0\": {\"frequency\": 1, \"value\": 88254.0}, \"12480.0\": {\"frequency\": 2, \"value\": 12480.0}, \"135200.0\": {\"frequency\": 1, \"value\": 135200.0}, \"354500.0\": {\"frequency\": 1, \"value\": 354500.0}, \"108750.0\": {\"frequency\": 1, \"value\": 108750.0}, \"24784.0\": {\"frequency\": 3, \"value\": 24784.0}, \"303000.0\": {\"frequency\": 1, \"value\": 303000.0}, \"28885.0\": {\"frequency\": 3, \"value\": 28885.0}, \"375000.0\": {\"frequency\": 1, \"value\": 375000.0}, \"618724.0\": {\"frequency\": 1, \"value\": 618724.0}, \"35046.0\": {\"frequency\": 1, \"value\": 35046.0}, \"33000.0\": {\"frequency\": 2, \"value\": 33000.0}, \"348400.0\": {\"frequency\": 1, \"value\": 348400.0}, \"32206.11\": {\"frequency\": 3, \"value\": 32206.11}, \"12530.0\": {\"frequency\": 1, \"value\": 12530.0}, \"18680.0\": {\"frequency\": 2, \"value\": 18680.0}, \"160000.0\": {\"frequency\": 1, \"value\": 160000.0}, \"240000.0\": {\"frequency\": 1, \"value\": 240000.0}, \"79002.5\": {\"frequency\": 3, \"value\": 79002.5}, \"28937.0\": {\"frequency\": 9, \"value\": 28937.0}, \"119050.0\": {\"frequency\": 1, \"value\": 119050.0}, \"18703.0\": {\"frequency\": 2, \"value\": 18703.0}, \"373008.0\": {\"frequency\": 2, \"value\": 373008.0}, \"98580.0\": {\"frequency\": 1, \"value\": 98580.0}, \"31000.0\": {\"frequency\": 1, \"value\": 31000.0}, \"13700.0\": {\"frequency\": 1, \"value\": 13700.0}, \"23600.0\": {\"frequency\": 1, \"value\": 23600.0}, \"157988.0\": {\"frequency\": 1, \"value\": 157988.0}, \"119080.0\": {\"frequency\": 1, \"value\": 119080.0}, \"158000.0\": {\"frequency\": 2, \"value\": 158000.0}, \"108849.0\": {\"frequency\": 1, \"value\": 108849.0}, \"37170.0\": {\"frequency\": 1, \"value\": 37170.0}, \"158005.0\": {\"frequency\": 5, \"value\": 158005.0}, \"47420.0\": {\"frequency\": 1, \"value\": 47420.0}, \"29000.0\": {\"frequency\": 1, \"value\": 29000.0}, \"47433.0\": {\"frequency\": 11, \"value\": 47433.0}, \"221514.0\": {\"frequency\": 1, \"value\": 221514.0}, \"33100.0\": {\"frequency\": 2, \"value\": 33100.0}, \"55630.0\": {\"frequency\": 1, \"value\": 55630.0}, \"47440.0\": {\"frequency\": 1, \"value\": 47440.0}, \"29013.0\": {\"frequency\": 1, \"value\": 29013.0}, \"225624.0\": {\"frequency\": 1, \"value\": 225624.0}, \"123225.0\": {\"frequency\": 1, \"value\": 123225.0}, \"26970.0\": {\"frequency\": 2, \"value\": 26970.0}, \"8539.0\": {\"frequency\": 2, \"value\": 8539.0}, \"38003.12\": {\"frequency\": 2, \"value\": 38003.12}, \"22880.0\": {\"frequency\": 2, \"value\": 22880.0}, \"113000.0\": {\"frequency\": 4, \"value\": 113000.0}, \"87100.0\": {\"frequency\": 1, \"value\": 87100.0}, \"250220.0\": {\"frequency\": 2, \"value\": 250220.0}, \"70000.0\": {\"frequency\": 1, \"value\": 70000.0}, \"20200.0\": {\"frequency\": 1, \"value\": 20200.0}, \"27000.0\": {\"frequency\": 1, \"value\": 27000.0}, \"24954.0\": {\"frequency\": 15, \"value\": 24954.0}, \"72060.0\": {\"frequency\": 1, \"value\": 72060.0}, \"70014.0\": {\"frequency\": 1, \"value\": 70014.0}, \"43392.0\": {\"frequency\": 1, \"value\": 43392.0}, \"680000.0\": {\"frequency\": 1, \"value\": 680000.0}, \"168327.0\": {\"frequency\": 1, \"value\": 168327.0}, \"38636.0\": {\"frequency\": 18, \"value\": 38636.0}, \"35214.0\": {\"frequency\": 1, \"value\": 35214.0}, \"196302.96\": {\"frequency\": 2, \"value\": 196302.96}, \"72102.0\": {\"frequency\": 1, \"value\": 72102.0}, \"25000.0\": {\"frequency\": 2, \"value\": 25000.0}, \"47542.0\": {\"frequency\": 1, \"value\": 47542.0}, \"49908.0\": {\"frequency\": 4, \"value\": 49908.0}, \"111034.0\": {\"frequency\": 9, \"value\": 111034.0}, \"45500.0\": {\"frequency\": 1, \"value\": 45500.0}, \"25022.0\": {\"frequency\": 7, \"value\": 25022.0}, \"25030.0\": {\"frequency\": 4, \"value\": 25030.0}, \"18900.0\": {\"frequency\": 1, \"value\": 18900.0}, \"84438.0\": {\"frequency\": 2, \"value\": 84438.0}, \"211769.98\": {\"frequency\": 1, \"value\": 211769.98}, \"12762.0\": {\"frequency\": 5, \"value\": 12762.0}, \"76251.0\": {\"frequency\": 1, \"value\": 76251.0}, \"106918.0\": {\"frequency\": 2, \"value\": 106918.0}, \"29158.0\": {\"frequency\": 6, \"value\": 29158.0}, \"186417.1\": {\"frequency\": 6, \"value\": 186417.1}, \"8683.0\": {\"frequency\": 20, \"value\": 8683.0}, \"29164.0\": {\"frequency\": 2, \"value\": 29164.0}, \"8700.0\": {\"frequency\": 5, \"value\": 8700.0}, \"46676.0\": {\"frequency\": 2, \"value\": 46676.0}, \"12800.0\": {\"frequency\": 1, \"value\": 12800.0}, \"47620.0\": {\"frequency\": 2, \"value\": 47620.0}, \"92680.0\": {\"frequency\": 1, \"value\": 92680.0}, \"16913.0\": {\"frequency\": 13, \"value\": 16913.0}, \"88836.0\": {\"frequency\": 2, \"value\": 88836.0}, \"37406.0\": {\"frequency\": 1, \"value\": 37406.0}, \"260640.0\": {\"frequency\": 1, \"value\": 260640.0}, \"53940.52\": {\"frequency\": 3, \"value\": 53940.52}, \"12845.0\": {\"frequency\": 1, \"value\": 12845.0}, \"236080.0\": {\"frequency\": 4, \"value\": 236080.0}, \"39474.0\": {\"frequency\": 5, \"value\": 39474.0}, \"23102.0\": {\"frequency\": 1, \"value\": 23102.0}, \"27200.0\": {\"frequency\": 1, \"value\": 27200.0}, \"39500.0\": {\"frequency\": 3, \"value\": 39500.0}, \"72272.0\": {\"frequency\": 1, \"value\": 72272.0}, \"47697.0\": {\"frequency\": 1, \"value\": 47697.0}, \"150104.0\": {\"frequency\": 1, \"value\": 150104.0}, \"59998.0\": {\"frequency\": 1, \"value\": 59998.0}, \"60000.0\": {\"frequency\": 1, \"value\": 60000.0}, \"12390.0\": {\"frequency\": 7, \"value\": 12390.0}, \"139878.0\": {\"frequency\": 1, \"value\": 139878.0}, \"17000.0\": {\"frequency\": 1, \"value\": 17000.0}, \"598638.0\": {\"frequency\": 1, \"value\": 598638.0}, \"19057.0\": {\"frequency\": 1, \"value\": 19057.0}, \"467575.0\": {\"frequency\": 1, \"value\": 467575.0}, \"86655.0\": {\"frequency\": 1, \"value\": 86655.0}, \"400000.0\": {\"frequency\": 1, \"value\": 400000.0}, \"62088.0\": {\"frequency\": 1, \"value\": 62088.0}, \"94866.0\": {\"frequency\": 5, \"value\": 94866.0}, \"257686.96\": {\"frequency\": 1, \"value\": 257686.96}, \"39580.0\": {\"frequency\": 6, \"value\": 39580.0}, \"68380.0\": {\"frequency\": 1, \"value\": 68380.0}, \"39600.0\": {\"frequency\": 1, \"value\": 39600.0}, \"32200.0\": {\"frequency\": 1, \"value\": 32200.0}, \"33460.0\": {\"frequency\": 1, \"value\": 33460.0}, \"51900.0\": {\"frequency\": 1, \"value\": 51900.0}, \"164640.0\": {\"frequency\": 1, \"value\": 164640.0}, \"90820.0\": {\"frequency\": 1, \"value\": 90820.0}, \"44828.0\": {\"frequency\": 1, \"value\": 44828.0}, \"13000.0\": {\"frequency\": 1, \"value\": 13000.0}, \"219869.0\": {\"frequency\": 1, \"value\": 219869.0}, \"29418.0\": {\"frequency\": 7, \"value\": 29418.0}, \"84717.0\": {\"frequency\": 1, \"value\": 84717.0}, \"31470.0\": {\"frequency\": 2, \"value\": 31470.0}, \"58100.0\": {\"frequency\": 1, \"value\": 58100.0}, \"62200.0\": {\"frequency\": 15, \"value\": 62200.0}, \"58836.0\": {\"frequency\": 3, \"value\": 58836.0}, \"224000.0\": {\"frequency\": 1, \"value\": 224000.0}, \"105219.0\": {\"frequency\": 1, \"value\": 105219.0}, \"74500.0\": {\"frequency\": 1, \"value\": 74500.0}, \"17160.0\": {\"frequency\": 3, \"value\": 17160.0}, \"27437.0\": {\"frequency\": 3, \"value\": 27437.0}, \"138000.0\": {\"frequency\": 1, \"value\": 138000.0}, \"23313.0\": {\"frequency\": 1, \"value\": 23313.0}, \"90903.0\": {\"frequency\": 1, \"value\": 90903.0}, \"27417.0\": {\"frequency\": 6, \"value\": 27417.0}, \"86811.0\": {\"frequency\": 2, \"value\": 86811.0}, \"70428.0\": {\"frequency\": 1, \"value\": 70428.0}, \"72480.0\": {\"frequency\": 1, \"value\": 72480.0}, \"23338.0\": {\"frequency\": 10, \"value\": 23338.0}, \"197421.0\": {\"frequency\": 1, \"value\": 197421.0}, \"27440.0\": {\"frequency\": 5, \"value\": 27440.0}, \"186504.0\": {\"frequency\": 4, \"value\": 186504.0}, \"90933.0\": {\"frequency\": 1, \"value\": 90933.0}, \"80700.0\": {\"frequency\": 1, \"value\": 80700.0}, \"210400.0\": {\"frequency\": 1, \"value\": 210400.0}, \"23364.0\": {\"frequency\": 4, \"value\": 23364.0}, \"281902.5\": {\"frequency\": 2, \"value\": 281902.5}, \"136760.0\": {\"frequency\": 1, \"value\": 136760.0}, \"154440.0\": {\"frequency\": 1, \"value\": 154440.0}, \"72522.0\": {\"frequency\": 4, \"value\": 72522.0}, \"222028.0\": {\"frequency\": 1, \"value\": 222028.0}, \"33615.0\": {\"frequency\": 3, \"value\": 33615.0}, \"50000.0\": {\"frequency\": 1, \"value\": 50000.0}, \"128824.0\": {\"frequency\": 1, \"value\": 128824.0}, \"26970.26\": {\"frequency\": 7, \"value\": 26970.26}, \"389987.0\": {\"frequency\": 1, \"value\": 389987.0}, \"144228.0\": {\"frequency\": 1, \"value\": 144228.0}, \"734054.0\": {\"frequency\": 1, \"value\": 734054.0}, \"49980.0\": {\"frequency\": 1, \"value\": 49980.0}, \"15215.0\": {\"frequency\": 1, \"value\": 15215.0}, \"134000.0\": {\"frequency\": 1, \"value\": 134000.0}, \"222068.0\": {\"frequency\": 5, \"value\": 222068.0}, \"101240.0\": {\"frequency\": 1, \"value\": 101240.0}, \"50044.0\": {\"frequency\": 4, \"value\": 50044.0}, \"69180.0\": {\"frequency\": 1, \"value\": 69180.0}, \"48000.0\": {\"frequency\": 1, \"value\": 48000.0}, \"99800.0\": {\"frequency\": 1, \"value\": 99800.0}, \"44096.0\": {\"frequency\": 1, \"value\": 44096.0}, \"50060.0\": {\"frequency\": 1, \"value\": 50060.0}, \"13200.0\": {\"frequency\": 1, \"value\": 13200.0}, \"195480.0\": {\"frequency\": 1, \"value\": 195480.0}, \"330564.0\": {\"frequency\": 1, \"value\": 330564.0}, \"25500.0\": {\"frequency\": 3, \"value\": 25500.0}, \"78750.0\": {\"frequency\": 1, \"value\": 78750.0}, \"21407.0\": {\"frequency\": 1, \"value\": 21407.0}, \"22000.0\": {\"frequency\": 1, \"value\": 22000.0}, \"177060.0\": {\"frequency\": 2, \"value\": 177060.0}, \"168876.0\": {\"frequency\": 1, \"value\": 168876.0}, \"58300.0\": {\"frequency\": 1, \"value\": 58300.0}, \"170942.0\": {\"frequency\": 1, \"value\": 170942.0}, \"11200.0\": {\"frequency\": 1, \"value\": 11200.0}, \"407712.0\": {\"frequency\": 1, \"value\": 407712.0}, \"48068.0\": {\"frequency\": 2, \"value\": 48068.0}, \"48076.0\": {\"frequency\": 1, \"value\": 48076.0}, \"130000.0\": {\"frequency\": 1, \"value\": 130000.0}, \"299990.0\": {\"frequency\": 1, \"value\": 299990.0}, \"142299.0\": {\"frequency\": 1, \"value\": 142299.0}, \"248800.0\": {\"frequency\": 1, \"value\": 248800.0}, \"52200.0\": {\"frequency\": 1, \"value\": 52200.0}, \"64500.0\": {\"frequency\": 1, \"value\": 64500.0}, \"21500.0\": {\"frequency\": 2, \"value\": 21500.0}, \"116565.0\": {\"frequency\": 1, \"value\": 116565.0}, \"25600.0\": {\"frequency\": 1, \"value\": 25600.0}, \"17420.0\": {\"frequency\": 9, \"value\": 17420.0}, \"50190.0\": {\"frequency\": 1, \"value\": 50190.0}, \"355344.0\": {\"frequency\": 1, \"value\": 355344.0}, \"50200.0\": {\"frequency\": 2, \"value\": 50200.0}, \"33826.0\": {\"frequency\": 3, \"value\": 33826.0}, \"52260.0\": {\"frequency\": 1, \"value\": 52260.0}, \"64412.22\": {\"frequency\": 1, \"value\": 64412.22}, \"15401.0\": {\"frequency\": 1, \"value\": 15401.0}, \"58410.0\": {\"frequency\": 1, \"value\": 58410.0}, \"19500.0\": {\"frequency\": 1, \"value\": 19500.0}, \"173103.0\": {\"frequency\": 1, \"value\": 173103.0}, \"228400.0\": {\"frequency\": 1, \"value\": 228400.0}, \"31797.0\": {\"frequency\": 3, \"value\": 31797.0}, \"76854.0\": {\"frequency\": 3, \"value\": 76854.0}, \"306356.0\": {\"frequency\": 1, \"value\": 306356.0}, \"74812.0\": {\"frequency\": 2, \"value\": 74812.0}, \"58430.0\": {\"frequency\": 1, \"value\": 58430.0}, \"142400.0\": {\"frequency\": 1, \"value\": 142400.0}, \"51040.0\": {\"frequency\": 1, \"value\": 51040.0}, \"29770.0\": {\"frequency\": 10, \"value\": 29770.0}, \"785211.84\": {\"frequency\": 1, \"value\": 785211.84}, \"162900.0\": {\"frequency\": 1, \"value\": 162900.0}, \"56406.0\": {\"frequency\": 4, \"value\": 56406.0}, \"25690.0\": {\"frequency\": 1, \"value\": 25690.0}, \"60602.0\": {\"frequency\": 1, \"value\": 60602.0}, \"124000.0\": {\"frequency\": 1, \"value\": 124000.0}, \"76882.5\": {\"frequency\": 1, \"value\": 76882.5}, \"273520.0\": {\"frequency\": 2, \"value\": 273520.0}, \"275580.0\": {\"frequency\": 2, \"value\": 275580.0}, \"51546.0\": {\"frequency\": 9, \"value\": 51546.0}, \"62590.0\": {\"frequency\": 1, \"value\": 62590.0}, \"11402.0\": {\"frequency\": 1, \"value\": 11402.0}, \"9355.0\": {\"frequency\": 1, \"value\": 9355.0}, \"107881.04\": {\"frequency\": 1, \"value\": 107881.04}, \"378000.0\": {\"frequency\": 1, \"value\": 378000.0}, \"144534.0\": {\"frequency\": 1, \"value\": 144534.0}, \"79000.0\": {\"frequency\": 1, \"value\": 79000.0}, \"539814.0\": {\"frequency\": 1, \"value\": 539814.0}, \"93352.0\": {\"frequency\": 3, \"value\": 93352.0}, \"25773.0\": {\"frequency\": 3, \"value\": 25773.0}, \"56500.0\": {\"frequency\": 4, \"value\": 56500.0}, \"43550.0\": {\"frequency\": 1, \"value\": 43550.0}, \"62650.0\": {\"frequency\": 1, \"value\": 62650.0}, \"119996.0\": {\"frequency\": 1, \"value\": 119996.0}, \"120000.0\": {\"frequency\": 1, \"value\": 120000.0}, \"20000.0\": {\"frequency\": 2, \"value\": 20000.0}, \"333000.0\": {\"frequency\": 1, \"value\": 333000.0}, \"93400.0\": {\"frequency\": 1, \"value\": 93400.0}, \"24100.0\": {\"frequency\": 1, \"value\": 24100.0}, \"23771.0\": {\"frequency\": 2, \"value\": 23771.0}, \"46300.0\": {\"frequency\": 1, \"value\": 46300.0}, \"89310.0\": {\"frequency\": 1, \"value\": 89310.0}, \"50400.0\": {\"frequency\": 1, \"value\": 50400.0}, \"282374.18\": {\"frequency\": 1, \"value\": 282374.18}, \"161000.0\": {\"frequency\": 1, \"value\": 161000.0}, \"70900.0\": {\"frequency\": 7, \"value\": 70900.0}, \"23800.0\": {\"frequency\": 2, \"value\": 23800.0}, \"83200.0\": {\"frequency\": 1, \"value\": 83200.0}, \"124800.0\": {\"frequency\": 1, \"value\": 124800.0}, \"23810.0\": {\"frequency\": 11, \"value\": 23810.0}, \"38150.0\": {\"frequency\": 1, \"value\": 38150.0}, \"193800.0\": {\"frequency\": 1, \"value\": 193800.0}, \"85263.0\": {\"frequency\": 1, \"value\": 85263.0}, \"478482.0\": {\"frequency\": 1, \"value\": 478482.0}, \"118040.0\": {\"frequency\": 2, \"value\": 118040.0}, \"19737.0\": {\"frequency\": 14, \"value\": 19737.0}, \"116000.0\": {\"frequency\": 1, \"value\": 116000.0}, \"205360.0\": {\"frequency\": 1, \"value\": 205360.0}, \"240860.0\": {\"frequency\": 1, \"value\": 240860.0}, \"75052.0\": {\"frequency\": 1, \"value\": 75052.0}, \"333102.0\": {\"frequency\": 4, \"value\": 333102.0}, \"29999.0\": {\"frequency\": 3, \"value\": 29999.0}, \"855344.0\": {\"frequency\": 1, \"value\": 855344.0}, \"96136.0\": {\"frequency\": 1, \"value\": 96136.0}, \"745668.4\": {\"frequency\": 2, \"value\": 745668.4}, \"449845.0\": {\"frequency\": 1, \"value\": 449845.0}, \"79160.0\": {\"frequency\": 1, \"value\": 79160.0}, \"192288.0\": {\"frequency\": 1, \"value\": 192288.0}, \"200000.0\": {\"frequency\": 1, \"value\": 200000.0}, \"83267.0\": {\"frequency\": 2, \"value\": 83267.0}, \"108850.67\": {\"frequency\": 3, \"value\": 108850.67}, \"114000.0\": {\"frequency\": 1, \"value\": 114000.0}, \"30033.0\": {\"frequency\": 2, \"value\": 30033.0}, \"75090.0\": {\"frequency\": 1, \"value\": 75090.0}, \"58710.0\": {\"frequency\": 1, \"value\": 58710.0}, \"21850.0\": {\"frequency\": 1, \"value\": 21850.0}, \"68956.0\": {\"frequency\": 4, \"value\": 68956.0}, \"125840.0\": {\"frequency\": 2, \"value\": 125840.0}, \"30950.0\": {\"frequency\": 1, \"value\": 30950.0}, \"241000.0\": {\"frequency\": 1, \"value\": 241000.0}, \"62825.0\": {\"frequency\": 1, \"value\": 62825.0}, \"83309.0\": {\"frequency\": 2, \"value\": 83309.0}, \"222576.0\": {\"frequency\": 1, \"value\": 222576.0}, \"137790.0\": {\"frequency\": 1, \"value\": 137790.0}, \"44406.0\": {\"frequency\": 1, \"value\": 44406.0}, \"15735.0\": {\"frequency\": 15, \"value\": 15735.0}, \"44418.0\": {\"frequency\": 3, \"value\": 44418.0}, \"269700.0\": {\"frequency\": 1, \"value\": 269700.0}, \"69000.0\": {\"frequency\": 1, \"value\": 69000.0}, \"19850.0\": {\"frequency\": 1, \"value\": 19850.0}, \"34190.0\": {\"frequency\": 3, \"value\": 34190.0}, \"228753.0\": {\"frequency\": 1, \"value\": 228753.0}, \"26002.0\": {\"frequency\": 1, \"value\": 26002.0}, \"98918.4\": {\"frequency\": 1, \"value\": 98918.4}, \"32155.0\": {\"frequency\": 1, \"value\": 32155.0}, \"452000.0\": {\"frequency\": 1, \"value\": 452000.0}, \"11682.0\": {\"frequency\": 5, \"value\": 11682.0}, \"19700.0\": {\"frequency\": 1, \"value\": 19700.0}, \"140730.0\": {\"frequency\": 2, \"value\": 140730.0}, \"224700.0\": {\"frequency\": 1, \"value\": 224700.0}, \"277950.0\": {\"frequency\": 1, \"value\": 277950.0}, \"228800.0\": {\"frequency\": 1, \"value\": 228800.0}, \"449985.0\": {\"frequency\": 1, \"value\": 449985.0}, \"128450.0\": {\"frequency\": 1, \"value\": 128450.0}, \"359876.0\": {\"frequency\": 2, \"value\": 359876.0}, \"62920.0\": {\"frequency\": 2, \"value\": 62920.0}, \"47692.0\": {\"frequency\": 1, \"value\": 47692.0}, \"32206.0\": {\"frequency\": 2, \"value\": 32206.0}, \"202195.0\": {\"frequency\": 1, \"value\": 202195.0}, \"24020.0\": {\"frequency\": 1, \"value\": 24020.0}, \"77272.0\": {\"frequency\": 2, \"value\": 77272.0}, \"62940.0\": {\"frequency\": 2, \"value\": 62940.0}, \"24030.0\": {\"frequency\": 1, \"value\": 24030.0}, \"56800.0\": {\"frequency\": 2, \"value\": 56800.0}, \"580176.0\": {\"frequency\": 1, \"value\": 580176.0}, \"60900.0\": {\"frequency\": 1, \"value\": 60900.0}, \"24038.0\": {\"frequency\": 7, \"value\": 24038.0}, \"93208.55\": {\"frequency\": 3, \"value\": 93208.55}, \"80910.78\": {\"frequency\": 2, \"value\": 80910.78}, \"17900.0\": {\"frequency\": 1, \"value\": 17900.0}, \"200176.0\": {\"frequency\": 1, \"value\": 200176.0}, \"12200.0\": {\"frequency\": 1, \"value\": 12200.0}, \"11860.0\": {\"frequency\": 2, \"value\": 11860.0}, \"202235.0\": {\"frequency\": 1, \"value\": 202235.0}, \"116223.0\": {\"frequency\": 1, \"value\": 116223.0}, \"247296.0\": {\"frequency\": 1, \"value\": 247296.0}, \"32000.0\": {\"frequency\": 1, \"value\": 32000.0}, \"77319.0\": {\"frequency\": 2, \"value\": 77319.0}, \"149000.0\": {\"frequency\": 2, \"value\": 149000.0}, \"34320.0\": {\"frequency\": 1, \"value\": 34320.0}, \"32276.0\": {\"frequency\": 1, \"value\": 32276.0}, \"57377.56\": {\"frequency\": 1, \"value\": 57377.56}, \"38427.0\": {\"frequency\": 6, \"value\": 38427.0}, \"22048.0\": {\"frequency\": 5, \"value\": 22048.0}, \"126500.0\": {\"frequency\": 1, \"value\": 126500.0}, \"163366.0\": {\"frequency\": 1, \"value\": 163366.0}, \"28203.0\": {\"frequency\": 4, \"value\": 28203.0}, \"26160.0\": {\"frequency\": 1, \"value\": 26160.0}, \"359988.0\": {\"frequency\": 1, \"value\": 359988.0}, \"102960.0\": {\"frequency\": 2, \"value\": 102960.0}, \"89656.0\": {\"frequency\": 1, \"value\": 89656.0}, \"48700.0\": {\"frequency\": 1, \"value\": 48700.0}, \"136800.0\": {\"frequency\": 1, \"value\": 136800.0}, \"395012.5\": {\"frequency\": 1, \"value\": 395012.5}, \"28239.0\": {\"frequency\": 4, \"value\": 28239.0}, \"85584.0\": {\"frequency\": 1, \"value\": 85584.0}, \"269907.0\": {\"frequency\": 1, \"value\": 269907.0}, \"22100.0\": {\"frequency\": 1, \"value\": 22100.0}, \"331350.0\": {\"frequency\": 4, \"value\": 331350.0}, \"30301.0\": {\"frequency\": 5, \"value\": 30301.0}, \"54880.0\": {\"frequency\": 4, \"value\": 54880.0}, \"809107.8\": {\"frequency\": 1, \"value\": 809107.8}, \"279625.65\": {\"frequency\": 2, \"value\": 279625.65}, \"30311.0\": {\"frequency\": 1, \"value\": 30311.0}, \"435132.0\": {\"frequency\": 2, \"value\": 435132.0}, \"559251.3\": {\"frequency\": 1, \"value\": 559251.3}, \"163440.0\": {\"frequency\": 1, \"value\": 163440.0}, \"7800.0\": {\"frequency\": 2, \"value\": 7800.0}, \"22139.0\": {\"frequency\": 1, \"value\": 22139.0}, \"16000.0\": {\"frequency\": 1, \"value\": 16000.0}, \"369600.0\": {\"frequency\": 1, \"value\": 369600.0}, \"46728.0\": {\"frequency\": 1, \"value\": 46728.0}, \"59020.0\": {\"frequency\": 3, \"value\": 59020.0}, \"102680.0\": {\"frequency\": 1, \"value\": 102680.0}, \"145044.0\": {\"frequency\": 5, \"value\": 145044.0}, \"22171.0\": {\"frequency\": 1, \"value\": 22171.0}, \"100000.0\": {\"frequency\": 2, \"value\": 100000.0}, \"102000.0\": {\"frequency\": 1, \"value\": 102000.0}, \"77482.0\": {\"frequency\": 2, \"value\": 77482.0}, \"215762.08\": {\"frequency\": 1, \"value\": 215762.08}, \"34478.0\": {\"frequency\": 1, \"value\": 34478.0}, \"14000.0\": {\"frequency\": 1, \"value\": 14000.0}, \"198321.0\": {\"frequency\": 1, \"value\": 198321.0}, \"149179.0\": {\"frequency\": 1, \"value\": 149179.0}, \"22209.0\": {\"frequency\": 4, \"value\": 22209.0}, \"134850.0\": {\"frequency\": 1, \"value\": 134850.0}, \"34500.0\": {\"frequency\": 1, \"value\": 34500.0}, \"58316.0\": {\"frequency\": 1, \"value\": 58316.0}, \"98000.0\": {\"frequency\": 2, \"value\": 98000.0}, \"315000.0\": {\"frequency\": 1, \"value\": 315000.0}, \"311000.0\": {\"frequency\": 1, \"value\": 311000.0}, \"7900.0\": {\"frequency\": 1, \"value\": 7900.0}, \"12000.0\": {\"frequency\": 1, \"value\": 12000.0}, \"179938.0\": {\"frequency\": 3, \"value\": 179938.0}, \"444136.0\": {\"frequency\": 1, \"value\": 444136.0}, \"73452.0\": {\"frequency\": 1, \"value\": 73452.0}, \"40689.0\": {\"frequency\": 1, \"value\": 40689.0}, \"100088.0\": {\"frequency\": 1, \"value\": 100088.0}, \"12032.0\": {\"frequency\": 1, \"value\": 12032.0}, \"144000.0\": {\"frequency\": 1, \"value\": 144000.0}, \"83720.0\": {\"frequency\": 1, \"value\": 83720.0}, \"22284.0\": {\"frequency\": 1, \"value\": 22284.0}, \"10000.0\": {\"frequency\": 2, \"value\": 10000.0}, \"581400.0\": {\"frequency\": 1, \"value\": 581400.0}, \"179994.0\": {\"frequency\": 2, \"value\": 179994.0}, \"718620.0\": {\"frequency\": 1, \"value\": 718620.0}, \"251680.0\": {\"frequency\": 1, \"value\": 251680.0}, \"618800.0\": {\"frequency\": 1, \"value\": 618800.0}, \"165675.0\": {\"frequency\": 1, \"value\": 165675.0}, \"108850.0\": {\"frequency\": 2, \"value\": 108850.0}, \"65160.0\": {\"frequency\": 1, \"value\": 65160.0}, \"74188.8\": {\"frequency\": 1, \"value\": 74188.8}, \"36660.0\": {\"frequency\": 1, \"value\": 36660.0}, \"51000.0\": {\"frequency\": 3, \"value\": 51000.0}, \"14141.0\": {\"frequency\": 1, \"value\": 14141.0}, \"32580.0\": {\"frequency\": 4, \"value\": 32580.0}, \"51340.76\": {\"frequency\": 2, \"value\": 51340.76}, \"169800.0\": {\"frequency\": 1, \"value\": 169800.0}, \"30540.0\": {\"frequency\": 9, \"value\": 30540.0}, \"32592.0\": {\"frequency\": 3, \"value\": 32592.0}, \"120120.0\": {\"frequency\": 2, \"value\": 120120.0}, \"38741.0\": {\"frequency\": 15, \"value\": 38741.0}, \"135000.0\": {\"frequency\": 1, \"value\": 135000.0}, \"194400.0\": {\"frequency\": 1, \"value\": 194400.0}, \"89960.0\": {\"frequency\": 1, \"value\": 89960.0}, \"569196.0\": {\"frequency\": 1, \"value\": 569196.0}, \"6000.0\": {\"frequency\": 1, \"value\": 6000.0}, \"89969.0\": {\"frequency\": 8, \"value\": 89969.0}, \"34680.0\": {\"frequency\": 2, \"value\": 34680.0}, \"49020.0\": {\"frequency\": 1, \"value\": 49020.0}, \"22400.0\": {\"frequency\": 1, \"value\": 22400.0}, \"237007.5\": {\"frequency\": 1, \"value\": 237007.5}, \"325512.0\": {\"frequency\": 1, \"value\": 325512.0}, \"61325.0\": {\"frequency\": 1, \"value\": 61325.0}, \"22414.0\": {\"frequency\": 15, \"value\": 22414.0}, \"51200.0\": {\"frequency\": 1, \"value\": 51200.0}, \"96152.0\": {\"frequency\": 1, \"value\": 96152.0}, \"47000.0\": {\"frequency\": 1, \"value\": 47000.0}, \"264800.0\": {\"frequency\": 1, \"value\": 264800.0}, \"230647.5\": {\"frequency\": 1, \"value\": 230647.5}, \"65520.0\": {\"frequency\": 1, \"value\": 65520.0}, \"24484.0\": {\"frequency\": 2, \"value\": 24484.0}, \"16296.0\": {\"frequency\": 16, \"value\": 16296.0}, \"102313.0\": {\"frequency\": 2, \"value\": 102313.0}, \"30636.0\": {\"frequency\": 1, \"value\": 30636.0}, \"114755.12\": {\"frequency\": 1, \"value\": 114755.12}, \"112568.0\": {\"frequency\": 1, \"value\": 112568.0}, \"194500.0\": {\"frequency\": 1, \"value\": 194500.0}, \"249801.0\": {\"frequency\": 1, \"value\": 249801.0}, \"2040.0\": {\"frequency\": 1, \"value\": 2040.0}, \"131040.0\": {\"frequency\": 1, \"value\": 131040.0}, \"105884.99\": {\"frequency\": 1, \"value\": 105884.99}, \"131056.0\": {\"frequency\": 1, \"value\": 131056.0}, \"16382.0\": {\"frequency\": 1, \"value\": 16382.0}, \"81910.0\": {\"frequency\": 1, \"value\": 81910.0}, \"32760.0\": {\"frequency\": 1, \"value\": 32760.0}, \"2046.0\": {\"frequency\": 1, \"value\": 2046.0}}, \"mean\": 92141.42922646785}, \"brand_type\": {\"complete\": true, \"numeric\": false, \"num_unique\": 120, \"num_undefined\": 0, \"progress\": 1.0, \"frequent_items\": {\"\\ufffd\\ufffd\\ufffd\\ufffd\\ufffd\\ufffd,Dell PowerEdge FC830\": {\"frequency\": 2, \"value\": \"\\u6234\\u5c14,Dell PowerEdge ...\"}, \"\\ufffd\\ufffd\\ufffd\\ufffd\\ufffd\\ufffd,DL360 Gen9\": {\"frequency\": 13, \"value\": \"\\u60e0\\u666e,DL360 Gen9\"}, \"\\ufffd\\ufffd\\ufffd\\ufffd\\ufffd\\ufffd,CH220 V3+2*E5-2609V3\\ufffd\\ufffd\\ufffd\\ufffd\\ufffd\\ufffd\\ufffd\\ufffd\\ufffd+32GB DDR4 \\ufffd\\ufffd\\ufffd\\ufffd\\ufffd\\ufffd\": {\"frequency\": 1, \"value\": \"\\u534e\\u4e3a,CH220 V3+2*E5-2 ...\"}, \"Lenovo\\ufffd\\ufffd\\ufffd\\ufffd\\ufffd\\ufffd\\ufffd\\ufffd\\ufffd\\ufffd\\ufffd\\ufffd,ThinkServer RD650\": {\"frequency\": 20, \"value\": \"Lenovo\\uff08\\u8054\\u60f3\\uff09,ThinkSe ...\"}, \"\\ufffd\\ufffd\\ufffd\\ufffd\\ufffd\\ufffd,A840\": {\"frequency\": 1, \"value\": \"\\u66d9\\u5149,A840\"}, \"Lenovo systemX,System x3100M5\": {\"frequency\": 6, \"value\": \"Lenovo ...\"}, \"\\ufffd\\ufffd\\ufffd\\ufffd\\ufffd\\ufffd,CX50-G20\": {\"frequency\": 11, \"value\": \"\\u66d9\\u5149,CX50-G20\"}, \"\\ufffd\\ufffd\\ufffd\\ufffd\\ufffd\\ufffd,RH5885 V3+4*E7-4809\\ufffd\\ufffd\\ufffd\\ufffd\\ufffd\\ufffd\\ufffd\\ufffd\\ufffd+32GB DDR4\\ufffd\\ufffd\\ufffd\\ufffd\\ufffd\\ufffd\": {\"frequency\": 20, \"value\": \"\\u534e\\u4e3a,RH5885 V3+4*E7- ...\"}, \"\\ufffd\\ufffd\\ufffd\\ufffd\\ufffd\\ufffd,CB85-G10\": {\"frequency\": 1, \"value\": \"\\u66d9\\u5149,CB85-G10\"}, \"\\ufffd\\ufffd\\ufffd\\ufffd\\ufffd\\ufffd\\ufffd\\ufffd\\ufffdH3C\\ufffd\\ufffd\\ufffd,H3C UIS R390 G2\\ufffd\\ufffd\\ufffd\\ufffd\\ufffd\\ufffd\\ufffd\\ufffd\\ufffd\\ufffd\\ufffd\\ufffd\\ufffd\\ufffd\\ufffd\\ufffd\\ufffd\\ufffd\": {\"frequency\": 1, \"value\": \"\\u534e\\u4e09\\uff08H3C\\uff09,H3C UIS ...\"}, \"\\ufffd\\ufffd\\ufffd\\ufffd\\ufffd\\ufffd,Dell PowerEdge M830\": {\"frequency\": 1, \"value\": \"\\u6234\\u5c14,Dell PowerEdge ...\"}, \"\\ufffd\\ufffd\\ufffd\\ufffd\\ufffd\\ufffd,I620-G\": {\"frequency\": 18, \"value\": \"\\u66d9\\u5149,I620-G\"}, \"\\ufffd\\ufffd\\ufffd\\ufffd\\ufffd\\ufffd,CH121 V3-32GB+2*E5-2609V3\\ufffd\\ufffd\\ufffd\\ufffd\\ufffd\\ufffd\\ufffd\\ufffd\\ufffd+32GB DDR4 \\ufffd\\ufffd\\ufffd\\ufffd\\ufffd\\ufffd\": {\"frequency\": 10, \"value\": \"\\u534e\\u4e3a,CH121 V3-32GB+2 ...\"}, \"\\ufffd\\ufffd\\ufffd\\ufffd\\ufffd\\ufffd\\ufffd\\ufffd\\ufffd\\ufffd\\ufffd\\ufffd,\\ufffd\\ufffd\\ufffd\\ufffd\\ufffd\\ufffdTP370\": {\"frequency\": 1, \"value\": \"\\u6e05\\u534e\\u540c\\u65b9,\\u8d85\\u5f3aTP370\"}, \"\\ufffd\\ufffd\\ufffd\\ufffd\\ufffd\\ufffd,Dell PowerEdge M630\": {\"frequency\": 16, \"value\": \"\\u6234\\u5c14,Dell PowerEdge ...\"}, \"inspur\\ufffd\\ufffd\\ufffd\\ufffd\\ufffd\\ufffd,NX5460M4\": {\"frequency\": 1, \"value\": \"inspur\\u6d6a\\u6f6e,NX5460M4\"}, \"\\ufffd\\ufffd\\ufffd\\ufffd\\ufffd\\ufffd,R6240 G10\": {\"frequency\": 2, \"value\": \"\\u8d85\\u4e91,R6240 G10\"}, \"\\ufffd\\ufffd\\ufffd\\ufffd\\ufffd\\ufffd,Dell PowerEdge R730\": {\"frequency\": 77, \"value\": \"\\u6234\\u5c14,Dell PowerEdge ...\"}, \"\\ufffd\\ufffd\\ufffd\\ufffd\\ufffd\\ufffd,A620\": {\"frequency\": 4, \"value\": \"\\u66d9\\u5149,A620\"}, \"Lenovo\\ufffd\\ufffd\\ufffd\\ufffd\\ufffd\\ufffd\\ufffd\\ufffd\\ufffd\\ufffd\\ufffd\\ufffd,ThinkServer TD350\": {\"frequency\": 35, \"value\": \"Lenovo\\uff08\\u8054\\u60f3\\uff09,ThinkSe ...\"}, \"\\ufffd\\ufffd\\ufffd\\ufffd\\ufffd\\ufffd\\ufffd\\ufffd\\ufffd\\ufffd\\ufffd\\ufffd,\\ufffd\\ufffd\\ufffd\\ufffd\\ufffd\\ufffdTP270\": {\"frequency\": 2, \"value\": \"\\u6e05\\u534e\\u540c\\u65b9,\\u8d85\\u5f3aTP270\"}, \"\\ufffd\\ufffd\\ufffd\\ufffd\\ufffd\\ufffd,Dell PowerEdge R630\": {\"frequency\": 19, \"value\": \"\\u6234\\u5c14,Dell PowerEdge ...\"}, \"\\ufffd\\ufffd\\ufffd\\ufffd\\ufffd\\ufffd,ML350 Gen9\": {\"frequency\": 19, \"value\": \"\\u60e0\\u666e,ML350 Gen9\"}, \"\\ufffd\\ufffd\\ufffd\\ufffd\\ufffd\\ufffd,W780-G\": {\"frequency\": 6, \"value\": \"\\u66d9\\u5149,W780-G\"}, \"Oracle\\ufffd\\ufffd\\ufffdSun\\ufffd\\ufffd\\ufffd,PCA compute server\": {\"frequency\": 1, \"value\": \"Oracle\\uff08Sun\\uff09,PCA ...\"}, \"inspur\\ufffd\\ufffd\\ufffd\\ufffd\\ufffd\\ufffd,NF5170M4\": {\"frequency\": 14, \"value\": \"inspur\\u6d6a\\u6f6e,NF5170M4\"}, \"\\ufffd\\ufffd\\ufffd\\ufffd\\ufffd\\ufffd,KU2235\": {\"frequency\": 1, \"value\": \"\\u91d1\\u54c1,KU2235\"}, \"\\ufffd\\ufffd\\ufffd\\ufffd\\ufffd\\ufffd,I210-G\": {\"frequency\": 2, \"value\": \"\\u66d9\\u5149,I210-G\"}, \"\\ufffd\\ufffd\\ufffd\\ufffd\\ufffd\\ufffd,CB80-G20\": {\"frequency\": 1, \"value\": \"\\u66d9\\u5149,CB80-G20\"}, \"Lenovo\\ufffd\\ufffd\\ufffd\\ufffd\\ufffd\\ufffd\\ufffd\\ufffd\\ufffd\\ufffd\\ufffd\\ufffd,ThinkServer RQ940\": {\"frequency\": 10, \"value\": \"Lenovo\\uff08\\u8054\\u60f3\\uff09,ThinkSe ...\"}, \"Lenovo systemX,Flex system x240M5\": {\"frequency\": 10, \"value\": \"Lenovo ...\"}, \"\\ufffd\\ufffd\\ufffd\\ufffd\\ufffd\\ufffd,CH121 V3-\\ufffd\\ufffd\\ufffd\\ufffd\\ufffd\\ufffd\\ufffd\\ufffd\\ufffd\\ufffd\\ufffd\\ufffd\\ufffd\\ufffd\\ufffd+1*E5-2609V3\\ufffd\\ufffd\\ufffd\\ufffd\\ufffd\\ufffd\\ufffd\\ufffd\\ufffd+16GB DDR4 \\ufffd\\ufffd\\ufffd\\ufffd\\ufffd\\ufffd\": {\"frequency\": 7, \"value\": \"\\u534e\\u4e3a,CH121 V3-\\u542b\\u5200\\u7247\\u673a\\u7bb1+ ...\"}, \"\\ufffd\\ufffd\\ufffd\\ufffd\\ufffd\\ufffd\\ufffd\\ufffd\\ufffd\\ufffd\\ufffd\\ufffd,\\ufffd\\ufffd\\ufffd\\ufffd\\ufffd\\ufffdTR930\": {\"frequency\": 1, \"value\": \"\\u6e05\\u534e\\u540c\\u65b9,\\u8d85\\u5f3aTR930\"}, \"inspur\\ufffd\\ufffd\\ufffd\\ufffd\\ufffd\\ufffd,NX5440M4\": {\"frequency\": 2, \"value\": \"inspur\\u6d6a\\u6f6e,NX5440M4\"}, \"\\ufffd\\ufffd\\ufffd\\ufffd\\ufffd\\ufffd,CH222 V3+2*E5-2609V3\\ufffd\\ufffd\\ufffd\\ufffd\\ufffd\\ufffd\\ufffd\\ufffd\\ufffd+32GB DDR4 \\ufffd\\ufffd\\ufffd\\ufffd\\ufffd\\ufffd\": {\"frequency\": 2, \"value\": \"\\u534e\\u4e3a,CH222 V3+2*E5-2 ...\"}, \"\\ufffd\\ufffd\\ufffd\\ufffd\\ufffd\\ufffd\\ufffd\\ufffd\\ufffd\\ufffd\\ufffd\\ufffd,\\ufffd\\ufffd\\ufffd\\ufffd\\ufffd\\ufffdTR730\": {\"frequency\": 2, \"value\": \"\\u6e05\\u534e\\u540c\\u65b9,\\u8d85\\u5f3aTR730\"}, \"inspur\\ufffd\\ufffd\\ufffd\\ufffd\\ufffd\\ufffd,NF5280M4\": {\"frequency\": 32, \"value\": \"inspur\\u6d6a\\u6f6e,NF5280M4\"}, \"\\ufffd\\ufffd\\ufffd\\ufffd\\ufffd\\ufffd,Dell PowerEdge R430\": {\"frequency\": 1, \"value\": \"\\u6234\\u5c14,Dell PowerEdge ...\"}, \"PowerLeader\\ufffd\\ufffd\\ufffd\\ufffd\\ufffd\\ufffd\\ufffd\\ufffd\\ufffd\\ufffd\\ufffd\\ufffd,PR2510G2\": {\"frequency\": 3, \"value\": \"PowerLeader\\uff08\\u5b9d\\u5fb7\\uff09,PR ...\"}, \"\\ufffd\\ufffd\\ufffd\\ufffd\\ufffd\\ufffd,ML150 Gen9\": {\"frequency\": 20, \"value\": \"\\u60e0\\u666e,ML150 Gen9\"}, \"inspur\\ufffd\\ufffd\\ufffd\\ufffd\\ufffd\\ufffd,NF5568M4\": {\"frequency\": 7, \"value\": \"inspur\\u6d6a\\u6f6e,NF5568M4\"}, \"\\ufffd\\ufffd\\ufffd\\ufffd\\ufffd\\ufffd\\ufffd\\ufffd\\ufffd\\ufffd\\ufffd\\ufffd,YH-5210V3\": {\"frequency\": 4, \"value\": \"\\u4e91\\u6d77\\u9e92\\u9e9f,YH-5210V3\"}, \"\\ufffd\\ufffd\\ufffd\\ufffd\\ufffd\\ufffd,KU2455\": {\"frequency\": 1, \"value\": \"\\u91d1\\u54c1,KU2455\"}, \"\\ufffd\\ufffd\\ufffd\\ufffd\\ufffd\\ufffd,W580I-G\": {\"frequency\": 9, \"value\": \"\\u66d9\\u5149,W580I-G\"}, \"\\ufffd\\ufffd\\ufffd\\ufffd\\ufffd\\ufffd,Dell PowerEdge R730XD\": {\"frequency\": 11, \"value\": \"\\u6234\\u5c14,Dell PowerEdge ...\"}, \"\\ufffd\\ufffd\\ufffd\\ufffd\\ufffd\\ufffd,BL460c Gen9 Graphics Svr Blade\": {\"frequency\": 5, \"value\": \"\\u60e0\\u666e,BL460c Gen9 ...\"}, \"inspur\\ufffd\\ufffd\\ufffd\\ufffd\\ufffd\\ufffd,P8000\": {\"frequency\": 22, \"value\": \"inspur\\u6d6a\\u6f6e,P8000\"}, \"\\ufffd\\ufffd\\ufffd\\ufffd\\ufffd\\ufffd,RH2288H V3+2*E5-2609V3\\ufffd\\ufffd\\ufffd\\ufffd\\ufffd\\ufffd\\ufffd\\ufffd\\ufffd+64GB DDR4 \\ufffd\\ufffd\\ufffd\\ufffd\\ufffd\\ufffd\": {\"frequency\": 10, \"value\": \"\\u534e\\u4e3a,RH2288H V3+2*E5 ...\"}, \"inspur\\ufffd\\ufffd\\ufffd\\ufffd\\ufffd\\ufffd,NF5288M4\": {\"frequency\": 4, \"value\": \"inspur\\u6d6a\\u6f6e,NF5288M4\"}, \"\\ufffd\\ufffd\\ufffd\\ufffd\\ufffd\\ufffd,Dell PowerEdge C6320\": {\"frequency\": 1, \"value\": \"\\u6234\\u5c14,Dell PowerEdge ...\"}, \"Lenovo systemX,Flex System x480 X6\": {\"frequency\": 5, \"value\": \"Lenovo ...\"}, \"inspur\\ufffd\\ufffd\\ufffd\\ufffd\\ufffd\\ufffd,TS860G3\": {\"frequency\": 7, \"value\": \"inspur\\u6d6a\\u6f6e,TS860G3\"}, \"\\ufffd\\ufffd\\ufffd\\ufffd\\ufffd\\ufffd\\ufffd\\ufffd\\ufffd\\ufffd\\ufffd\\ufffd,IR4200\": {\"frequency\": 3, \"value\": \"\\u601d\\u817e\\u5408\\u529b,IR4200\"}, \"\\ufffd\\ufffd\\ufffd\\ufffd\\ufffd\\ufffd\\ufffd\\ufffd\\ufffd\\ufffd\\ufffd\\ufffd,IR4202\": {\"frequency\": 2, \"value\": \"\\u601d\\u817e\\u5408\\u529b,IR4202\"}, \"\\ufffd\\ufffd\\ufffd\\ufffd\\ufffd\\ufffd,R9480 G10\": {\"frequency\": 1, \"value\": \"\\u8d85\\u4e91,R9480 G10\"}, \"\\ufffd\\ufffd\\ufffd\\ufffd\\ufffd\\ufffd,I840-G20\": {\"frequency\": 16, \"value\": \"\\u66d9\\u5149,I840-G20\"}, \"\\ufffd\\ufffd\\ufffd\\ufffd\\ufffd\\ufffd,\\ufffd\\ufffd\\ufffd\\ufffd\\ufffd\\ufffd TS5700 V3/262016\": {\"frequency\": 1, \"value\": \"\\u5f3a\\u6c27,\\u5f3a\\u6c27 TS5700 ...\"}, \"inspur\\ufffd\\ufffd\\ufffd\\ufffd\\ufffd\\ufffd,NF5270M4\": {\"frequency\": 16, \"value\": \"inspur\\u6d6a\\u6f6e,NF5270M4\"}, \"\\ufffd\\ufffd\\ufffd\\ufffd\\ufffd\\ufffd,Dell PowerEdge R930\": {\"frequency\": 40, \"value\": \"\\u6234\\u5c14,Dell PowerEdge ...\"}, \"\\ufffd\\ufffd\\ufffd\\ufffd\\ufffd\\ufffd,RH1288 V3+1*E5-2609\\ufffd\\ufffd\\ufffd\\ufffd\\ufffd\\ufffd\\ufffd\\ufffd\\ufffd+8GB DDR4\\ufffd\\ufffd\\ufffd\\ufffd\\ufffd\\ufffd\": {\"frequency\": 8, \"value\": \"\\u534e\\u4e3a,RH1288 V3+1*E5- ...\"}, \"Lenovo\\ufffd\\ufffd\\ufffd\\ufffd\\ufffd\\ufffd\\ufffd\\ufffd\\ufffd\\ufffd\\ufffd\\ufffd,ThinkServer RD450\": {\"frequency\": 20, \"value\": \"Lenovo\\uff08\\u8054\\u60f3\\uff09,ThinkSe ...\"}, \"\\ufffd\\ufffd\\ufffd\\ufffd\\ufffd\\ufffd\\ufffd\\ufffd\\ufffdH3C\\ufffd\\ufffd\\ufffd,H3C UIS R690 G2\": {\"frequency\": 2, \"value\": \"\\u534e\\u4e09\\uff08H3C\\uff09,H3C UIS ...\"}, \"inspur\\ufffd\\ufffd\\ufffd\\ufffd\\ufffd\\ufffd,NP3020M3\": {\"frequency\": 8, \"value\": \"inspur\\u6d6a\\u6f6e,NP3020M3\"}, \"\\ufffd\\ufffd\\ufffd\\ufffd\\ufffd\\ufffd,CH242 V3-4820+4*E7-4820V3\\ufffd\\ufffd\\ufffd\\ufffd\\ufffd\\ufffd\\ufffd\\ufffd\\ufffd+64GB DDR4 \\ufffd\\ufffd\\ufffd\\ufffd\\ufffd\\ufffd\": {\"frequency\": 1, \"value\": \"\\u534e\\u4e3a,CH242 V3-4820+4 ...\"}, \"Lenovo systemX,System x3850X6\": {\"frequency\": 39, \"value\": \"Lenovo ...\"}, \"LTHPC\\ufffd\\ufffd\\ufffd\\ufffd\\ufffd\\ufffd\\ufffd\\ufffd\\ufffd\\ufffd\\ufffd\\ufffd\\ufffd\\ufffd\\ufffd\\ufffd\\ufffd\\ufffd,LT-7049R\": {\"frequency\": 1, \"value\": \"LTHPC\\uff08\\u8054\\u6cf0\\u96c6\\u7fa4\\uff09,LT- ...\"}, \"inspur\\ufffd\\ufffd\\ufffd\\ufffd\\ufffd\\ufffd,NF8480M4\": {\"frequency\": 19, \"value\": \"inspur\\u6d6a\\u6f6e,NF8480M4\"}, \"ZTE\\ufffd\\ufffd\\ufffd\\ufffd\\ufffd\\ufffd,ZXCLOUD R5300 G3\": {\"frequency\": 1, \"value\": \"ZTE\\u4e2d\\u5174,ZXCLOUD ...\"}, \"\\ufffd\\ufffd\\ufffd\\ufffd\\ufffd\\ufffd\\ufffd\\ufffd\\ufffd\\ufffd\\ufffd\\ufffd,\\ufffd\\ufffd\\ufffd\\ufffd\\ufffd\\ufffdTP180\": {\"frequency\": 4, \"value\": \"\\u6e05\\u534e\\u540c\\u65b9,\\u8d85\\u5f3aTP180\"}, \"\\ufffd\\ufffd\\ufffd\\ufffd\\ufffd\\ufffd,W550-G\": {\"frequency\": 2, \"value\": \"\\u66d9\\u5149,W550-G\"}, \"Lenovo systemX,System x3500M5\": {\"frequency\": 25, \"value\": \"Lenovo ...\"}, \"\\ufffd\\ufffd\\ufffd\\ufffd\\ufffd\\ufffd,W320-G\": {\"frequency\": 2, \"value\": \"\\u66d9\\u5149,W320-G\"}, \"\\ufffd\\ufffd\\ufffd\\ufffd\\ufffd\\ufffd\\ufffd\\ufffd\\ufffdH3C\\ufffd\\ufffd\\ufffd,UIS-B390-G2\": {\"frequency\": 1, \"value\": \"\\u534e\\u4e09\\uff08H3C\\uff09,UIS-B390-G ...\"}, \"inspur\\ufffd\\ufffd\\ufffd\\ufffd\\ufffd\\ufffd,NF8460M4\": {\"frequency\": 20, \"value\": \"inspur\\u6d6a\\u6f6e,NF8460M4\"}, \"\\ufffd\\ufffd\\ufffd\\ufffd\\ufffd\\ufffd\\ufffd\\ufffd\\ufffdH3C\\ufffd\\ufffd\\ufffd,H3C UIS R390 G2\\ufffd\\ufffd\\ufffd8SFF\\ufffd\\ufffd\\ufffd\\ufffd\\ufffd\\ufffd\\ufffd\\ufffd\\ufffd\": {\"frequency\": 12, \"value\": \"\\u534e\\u4e09\\uff08H3C\\uff09,H3C UIS ...\"}, \"LTHPC\\ufffd\\ufffd\\ufffd\\ufffd\\ufffd\\ufffd\\ufffd\\ufffd\\ufffd\\ufffd\\ufffd\\ufffd\\ufffd\\ufffd\\ufffd\\ufffd\\ufffd\\ufffd,LT-7038A\": {\"frequency\": 3, \"value\": \"LTHPC\\uff08\\u8054\\u6cf0\\u96c6\\u7fa4\\uff09,LT- ...\"}, \"\\ufffd\\ufffd\\ufffd\\ufffd\\ufffd\\ufffd\\ufffd\\ufffd\\ufffd\\ufffd\\ufffd\\ufffd,IR2200\": {\"frequency\": 3, \"value\": \"\\u601d\\u817e\\u5408\\u529b,IR2200\"}, \"\\ufffd\\ufffd\\ufffd\\ufffd\\ufffd\\ufffd\\ufffd\\ufffd\\ufffd\\ufffd\\ufffd\\ufffd,YH-5610v3\": {\"frequency\": 2, \"value\": \"\\u4e91\\u6d77\\u9e92\\u9e9f,YH-5610v3\"}, \"\\ufffd\\ufffd\\ufffd\\ufffd\\ufffd\\ufffd,W560-G20\": {\"frequency\": 11, \"value\": \"\\u66d9\\u5149,W560-G20\"}, \"\\ufffd\\ufffd\\ufffd\\ufffd\\ufffd\\ufffd\\ufffd\\ufffd\\ufffdH3C\\ufffd\\ufffd\\ufffd,H3C UIS R190 G2(8LFF\\ufffd\\ufffd\\ufffd\\ufffd\\ufffd\\ufffd)\": {\"frequency\": 2, \"value\": \"\\u534e\\u4e09\\uff08H3C\\uff09,H3C UIS ...\"}, \"\\ufffd\\ufffd\\ufffd\\ufffd\\ufffd\\ufffd,RH2288H V2+2*E5-2620V2\\ufffd\\ufffd\\ufffd\\ufffd\\ufffd\\ufffd\\ufffd\\ufffd\\ufffd+32GB \\ufffd\\ufffd\\ufffd\\ufffd\\ufffd\\ufffd\": {\"frequency\": 4, \"value\": \"\\u534e\\u4e3a,RH2288H V2+2*E5 ...\"}, \"LTHPC\\ufffd\\ufffd\\ufffd\\ufffd\\ufffd\\ufffd\\ufffd\\ufffd\\ufffd\\ufffd\\ufffd\\ufffd\\ufffd\\ufffd\\ufffd\\ufffd\\ufffd\\ufffd,LT-6028TR\": {\"frequency\": 1, \"value\": \"LTHPC\\uff08\\u8054\\u6cf0\\u96c6\\u7fa4\\uff09,LT- ...\"}, \"\\ufffd\\ufffd\\ufffd\\ufffd\\ufffd\\ufffd,R7410 G10\": {\"frequency\": 3, \"value\": \"\\u8d85\\u4e91,R7410 G10\"}, \"\\ufffd\\ufffd\\ufffd\\ufffd\\ufffd\\ufffd,RH5885H V3+4*E7-4809V3\\ufffd\\ufffd\\ufffd\\ufffd\\ufffd\\ufffd\\ufffd\\ufffd\\ufffd+64GB DDR4 \\ufffd\\ufffd\\ufffd\\ufffd\\ufffd\\ufffd\": {\"frequency\": 2, \"value\": \"\\u534e\\u4e3a,RH5885H V3+4*E7 ...\"}, \"IBM,Power System S822LC\": {\"frequency\": 1, \"value\": \"IBM,Power System ...\"}, \"PowerLeader\\ufffd\\ufffd\\ufffd\\ufffd\\ufffd\\ufffd\\ufffd\\ufffd\\ufffd\\ufffd\\ufffd\\ufffd,PR2012GS1-CD1\": {\"frequency\": 6, \"value\": \"PowerLeader\\uff08\\u5b9d\\u5fb7\\uff09,PR ...\"}, \"Lenovo\\ufffd\\ufffd\\ufffd\\ufffd\\ufffd\\ufffd\\ufffd\\ufffd\\ufffd\\ufffd\\ufffd\\ufffd,ThinkServer TS150\": {\"frequency\": 23, \"value\": \"Lenovo\\uff08\\u8054\\u60f3\\uff09,ThinkSe ...\"}, \"\\ufffd\\ufffd\\ufffd\\ufffd\\ufffd\\ufffd,I980-G10\\ufffd\\ufffd\\ufffd\\ufffd\\ufffd\\ufffd\\ufffd\\ufffd\\ufffd\\ufffd\\ufffd\\ufffd\\ufffd\\ufffd\\ufffd\\ufffd\\ufffd\\ufffd\\ufffd\\ufffd\\ufffd\": {\"frequency\": 1, \"value\": \"\\u66d9\\u5149,I980-G10\\uff08\\u652f\\u6301\\u53cc\\u56db\\u8def\\uff09\"}, \"LTHPC\\ufffd\\ufffd\\ufffd\\ufffd\\ufffd\\ufffd\\ufffd\\ufffd\\ufffd\\ufffd\\ufffd\\ufffd\\ufffd\\ufffd\\ufffd\\ufffd\\ufffd\\ufffd,LT-8049-TR\": {\"frequency\": 2, \"value\": \"LTHPC\\uff08\\u8054\\u6cf0\\u96c6\\u7fa4\\uff09,LT-804 ...\"}, \"\\ufffd\\ufffd\\ufffd\\ufffd\\ufffd\\ufffd,KU4450\": {\"frequency\": 5, \"value\": \"\\u91d1\\u54c1,KU4450\"}, \"\\ufffd\\ufffd\\ufffd\\ufffd\\ufffd\\ufffd\\ufffd\\ufffd\\ufffdH3C\\ufffd\\ufffd\\ufffd,H3C UIS R390 G2\": {\"frequency\": 1, \"value\": \"\\u534e\\u4e09\\uff08H3C\\uff09,H3C UIS ...\"}, \"Lenovo systemX,System x3950X6\": {\"frequency\": 2, \"value\": \"Lenovo ...\"}, \"\\ufffd\\ufffd\\ufffd\\ufffd\\ufffd\\ufffd,\\ufffd\\ufffd\\ufffd\\ufffd\\ufffd\\ufffd RS2700 V3/262016\": {\"frequency\": 1, \"value\": \"\\u5f3a\\u6c27,\\u5f3a\\u6c27 RS2700 ...\"}, \"\\ufffd\\ufffd\\ufffd\\ufffd\\ufffd\\ufffd,SCS4450\": {\"frequency\": 2, \"value\": \"\\u5bb9\\u5929,SCS4450\"}, \"LTHPC\\ufffd\\ufffd\\ufffd\\ufffd\\ufffd\\ufffd\\ufffd\\ufffd\\ufffd\\ufffd\\ufffd\\ufffd\\ufffd\\ufffd\\ufffd\\ufffd\\ufffd\\ufffd,LT-7048GR-TR\": {\"frequency\": 4, \"value\": \"LTHPC\\uff08\\u8054\\u6cf0\\u96c6\\u7fa4\\uff09,LT- ...\"}, \"\\ufffd\\ufffd\\ufffd\\ufffd\\ufffd\\ufffd\\ufffd\\ufffd\\ufffd\\ufffd\\ufffd\\ufffd,NA7822(7822-A1C)\": {\"frequency\": 1, \"value\": \"\\u65b0\\u4e91\\u4e1c\\u65b9,NA7822(7822-A ...\"}, \"\\ufffd\\ufffd\\ufffd\\ufffd\\ufffd\\ufffd,W760-G\": {\"frequency\": 3, \"value\": \"\\u66d9\\u5149,W760-G\"}, \"\\ufffd\\ufffd\\ufffd\\ufffd\\ufffd\\ufffd,I840-G\": {\"frequency\": 6, \"value\": \"\\u66d9\\u5149,I840-G\"}, \"\\ufffd\\ufffd\\ufffd\\ufffd\\ufffd\\ufffd,W560-G\": {\"frequency\": 1, \"value\": \"\\u66d9\\u5149,W560-G\"}, \"LTHPC\\ufffd\\ufffd\\ufffd\\ufffd\\ufffd\\ufffd\\ufffd\\ufffd\\ufffd\\ufffd\\ufffd\\ufffd\\ufffd\\ufffd\\ufffd\\ufffd\\ufffd\\ufffd,LT-6028R\": {\"frequency\": 1, \"value\": \"LTHPC\\uff08\\u8054\\u6cf0\\u96c6\\u7fa4\\uff09,LT- ...\"}, \"\\ufffd\\ufffd\\ufffd\\ufffd\\ufffd\\ufffd\\ufffd\\ufffd\\ufffd\\ufffd\\ufffd\\ufffd,NA6814(6814-A1C)\": {\"frequency\": 2, \"value\": \"\\u65b0\\u4e91\\u4e1c\\u65b9,NA6814(6814-A ...\"}, \"\\ufffd\\ufffd\\ufffd\\ufffd\\ufffd\\ufffd,DL580 Gen9\": {\"frequency\": 20, \"value\": \"\\u60e0\\u666e,DL580 Gen9\"}, \"\\ufffd\\ufffd\\ufffd\\ufffd\\ufffd\\ufffd,T8520 G10\": {\"frequency\": 6, \"value\": \"\\u8d85\\u4e91,T8520 G10\"}, \"\\ufffd\\ufffd\\ufffd\\ufffd\\ufffd\\ufffd,R5210 G10\": {\"frequency\": 7, \"value\": \"\\u8d85\\u4e91,R5210 G10\"}, \"\\ufffd\\ufffd\\ufffd\\ufffd\\ufffd\\ufffd\\ufffd\\ufffd\\ufffdH3C\\ufffd\\ufffd\\ufffd,UIS-B390-G2\\ufffd\\ufffd\\ufffd\\ufffd\\ufffd\\ufffd\\ufffd\\ufffd\\ufffd\\ufffd\\ufffd\\ufffd\\ufffd\\ufffd\\ufffd\\ufffd\\ufffd\\ufffd\": {\"frequency\": 2, \"value\": \"\\u534e\\u4e09\\uff08H3C\\uff09,UIS-B390-G ...\"}, \"\\ufffd\\ufffd\\ufffd\\ufffd\\ufffd\\ufffd,Dell PowerEdge T130\": {\"frequency\": 20, \"value\": \"\\u6234\\u5c14,Dell PowerEdge ...\"}, \"PowerLeader\\ufffd\\ufffd\\ufffd\\ufffd\\ufffd\\ufffd\\ufffd\\ufffd\\ufffd\\ufffd\\ufffd\\ufffd,PR4620G\": {\"frequency\": 2, \"value\": \"PowerLeader\\uff08\\u5b9d\\u5fb7\\uff09,PR ...\"}, \"\\ufffd\\ufffd\\ufffd\\ufffd\\ufffd\\ufffd,Dell PowerEdge T330\": {\"frequency\": 20, \"value\": \"\\u6234\\u5c14,Dell PowerEdge ...\"}, \"\\ufffd\\ufffd\\ufffd\\ufffd\\ufffd\\ufffd,CH242 V3-4809+4*E7-4809V3\\ufffd\\ufffd\\ufffd\\ufffd\\ufffd\\ufffd\\ufffd\\ufffd\\ufffd+64GB DDR4\\ufffd\\ufffd\\ufffd\\ufffd\\ufffd\\ufffd\": {\"frequency\": 4, \"value\": \"\\u534e\\u4e3a,CH242 V3-4809+4 ...\"}, \"LTHPC\\ufffd\\ufffd\\ufffd\\ufffd\\ufffd\\ufffd\\ufffd\\ufffd\\ufffd\\ufffd\\ufffd\\ufffd\\ufffd\\ufffd\\ufffd\\ufffd\\ufffd\\ufffd,LT-7048A\": {\"frequency\": 2, \"value\": \"LTHPC\\uff08\\u8054\\u6cf0\\u96c6\\u7fa4\\uff09,LT- ...\"}, \"\\ufffd\\ufffd\\ufffd\\ufffd\\ufffd\\ufffd\\ufffd\\ufffd\\ufffdH3C\\ufffd\\ufffd\\ufffd,H3C UIS R390 G2\\ufffd\\ufffd\\ufffd\\ufffd\\ufffd\\ufffd\\ufffd\\ufffd\\ufffd\\ufffd\\ufffd\\ufffd\\ufffd\\ufffd\\ufffd\": {\"frequency\": 1, \"value\": \"\\u534e\\u4e09\\uff08H3C\\uff09,H3C UIS ...\"}, \"Lenovo systemX,System x3650M5\": {\"frequency\": 32, \"value\": \"Lenovo ...\"}, \"Lenovo systemX,System x3550M5\": {\"frequency\": 10, \"value\": \"Lenovo ...\"}, \"\\ufffd\\ufffd\\ufffd\\ufffd\\ufffd\\ufffd,T8310 G10\": {\"frequency\": 2, \"value\": \"\\u8d85\\u4e91,T8310 G10\"}, \"\\ufffd\\ufffd\\ufffd\\ufffd\\ufffd\\ufffd,RH2288 V3+2*E5-2609V3\\ufffd\\ufffd\\ufffd\\ufffd\\ufffd\\ufffd\\ufffd\\ufffd\\ufffd+16GB DDR4\\ufffd\\ufffd\\ufffd\\ufffd\\ufffd\\ufffd\": {\"frequency\": 20, \"value\": \"\\u534e\\u4e3a,RH2288 V3+2*E5- ...\"}, \"\\ufffd\\ufffd\\ufffd\\ufffd\\ufffd\\ufffd,Dell PowerEdge FC630\": {\"frequency\": 1, \"value\": \"\\u6234\\u5c14,Dell PowerEdge ...\"}, \"PowerLeader\\ufffd\\ufffd\\ufffd\\ufffd\\ufffd\\ufffd\\ufffd\\ufffd\\ufffd\\ufffd\\ufffd\\ufffd,PR4860R\": {\"frequency\": 3, \"value\": \"PowerLeader\\uff08\\u5b9d\\u5fb7\\uff09,PR ...\"}, \"\\ufffd\\ufffd\\ufffd\\ufffd\\ufffd\\ufffd,DL380 Gen9\": {\"frequency\": 20, \"value\": \"\\u60e0\\u666e,DL380 Gen9\"}, \"\\ufffd\\ufffd\\ufffd\\ufffd\\ufffd\\ufffd,Dell PowerEdge T630\": {\"frequency\": 80, \"value\": \"\\u6234\\u5c14,Dell PowerEdge ...\"}, \"\\ufffd\\ufffd\\ufffd\\ufffd\\ufffd\\ufffd,C640\": {\"frequency\": 2, \"value\": \"\\u6c49\\u67cf,C640\"}}, \"size\": 1073}, \"seller\": {\"complete\": true, \"numeric\": false, \"num_unique\": 353, \"num_undefined\": 0, \"progress\": 1.0, \"frequent_items\": {\"\\ufffd\\ufffd\\ufffd\\ufffd\\ufffd\\ufffd\\ufffd\\ufffd\\ufffd\\ufffd\\ufffd\\ufffd\\ufffd\\ufffd\\ufffd\\ufffd\\ufffd\\ufffd\\ufffd\\ufffd\\ufffd\\ufffd\\ufffd\\ufffd\\ufffd\\ufffd\\ufffd\\ufffd\\ufffd\\ufffd\\ufffd\\ufffd\\ufffd\\ufffd\\ufffd\\ufffd\\ufffd\\ufffd\\ufffd\\ufffd\\ufffd\\ufffd\\ufffd\\ufffd\\ufffd\\ufffd\\ufffd\\ufffd\": {\"frequency\": 2, \"value\": \"\\u6df1\\u5733\\u5e02\\u957f\\u57ce\\u7f51\\u4fe1\\u606f\\u79d1\\u6280\\u80a1\\u4efd\\u6709\\u9650\\u516c\\u53f8\"}, \"\\ufffd\\ufffd\\ufffd\\ufffd\\ufffd\\ufffd\\ufffd\\ufffd\\ufffd\\ufffd\\ufffd\\ufffd\\ufffd\\ufffd\\ufffd\\ufffd\\ufffd\\ufffd\\ufffd\\ufffd\\ufffd\\ufffd\\ufffd\\ufffd\\ufffd\\ufffd\\ufffd\\ufffd\\ufffd\\ufffd\\ufffd\\ufffd\\ufffd\\ufffd\\ufffd\\ufffd\\ufffd\\ufffd\\ufffd\": {\"frequency\": 1, \"value\": \"\\u77f3\\u5bb6\\u5e84\\u8d5b\\u8fea\\u4fe1\\u606f\\u79d1\\u6280\\u6709\\u9650\\u516c\\u53f8\"}, \"\\ufffd\\ufffd\\ufffd\\ufffd\\ufffd\\ufffd\\ufffd\\ufffd\\ufffd\\ufffd\\ufffd\\ufffd\\ufffd\\ufffd\\ufffd\\ufffd\\ufffd\\ufffd\\ufffd\\ufffd\\ufffd\\ufffd\\ufffd\\ufffd\\ufffd\\ufffd\\ufffd\\ufffd\\ufffd\\ufffd\\ufffd\\ufffd\\ufffd\\ufffd\\ufffd\\ufffd\\ufffd\\ufffd\\ufffd\\ufffd\\ufffd\\ufffd\\ufffd\\ufffd\\ufffd\": {\"frequency\": 2, \"value\": \"\\u7518\\u8083\\u4ebf\\u4f70\\u4e50\\u7535\\u5b50\\u79d1\\u6280\\u5de5\\u7a0b\\u6709\\u9650\\u516c\\u53f8\"}, \"\\ufffd\\ufffd\\ufffd\\ufffd\\ufffd\\ufffd\\ufffd\\ufffd\\ufffd\\ufffd\\ufffd\\ufffd\\ufffd\\ufffd\\ufffd\\ufffd\\ufffd\\ufffd\\ufffd\\ufffd\\ufffd\\ufffd\\ufffd\\ufffd\\ufffd\\ufffd\\ufffd\\ufffd\\ufffd\\ufffd\\ufffd\\ufffd\\ufffd\\ufffd\\ufffd\\ufffd\\ufffd\\ufffd\\ufffd\\ufffd\\ufffd\\ufffd\\ufffd\\ufffd\\ufffd\\ufffd\\ufffd\\ufffd\\ufffd\\ufffd\\ufffd\": {\"frequency\": 1, \"value\": \"\\u54c8\\u5c14\\u6ee8\\u57fa\\u58eb\\u5f97\\u8036\\u6570\\u7801\\u79d1\\u6280\\u80a1\\u4efd\\u6709\\u9650\\u516c\\u53f8\"}, \"\\ufffd\\ufffd\\ufffd\\ufffd\\ufffd\\ufffd\\ufffd\\ufffd\\ufffd\\ufffd\\ufffd\\ufffd\\ufffd\\ufffd\\ufffd\\ufffd\\ufffd\\ufffd\\ufffd\\ufffd\\ufffd\\ufffd\\ufffd\\ufffd\\ufffd\\ufffd\\ufffd\\ufffd\\ufffd\\ufffd\": {\"frequency\": 1, \"value\": \"\\u897f\\u5b89\\u57d4\\u548c\\u79d1\\u6280\\u6709\\u9650\\u516c\\u53f8\"}, \"\\ufffd\\ufffd\\ufffd\\ufffd\\ufffd\\ufffd\\ufffd\\ufffd\\ufffd\\ufffd\\ufffd\\ufffd\\ufffd\\ufffd\\ufffd\\ufffd\\ufffd\\ufffd\\ufffd\\ufffd\\ufffd\\ufffd\\ufffd\\ufffd\\ufffd\\ufffd\\ufffd\\ufffd\\ufffd\\ufffd\\ufffd\\ufffd\\ufffd\\ufffd\\ufffd\\ufffd\\ufffd\\ufffd\\ufffd\\ufffd\\ufffd\\ufffd\\ufffd\\ufffd\\ufffd\\ufffd\\ufffd\\ufffd\\ufffd\\ufffd\\ufffd\\ufffd\\ufffd\\ufffd\\ufffd\\ufffd\\ufffd\": {\"frequency\": 5, \"value\": \"\\u5317\\u4eac\\u7f51\\u4fe1\\u672a\\u6765\\u4fe1\\u606f\\u6280\\u672f\\u6709\\u9650\\u516c\\u53f8\\u6210\\u90fd\\u5206\\u516c ...\"}, \"\\ufffd\\ufffd\\ufffd\\ufffd\\ufffd\\ufffd\\ufffd\\ufffd\\ufffd\\ufffd\\ufffd\\ufffd\\ufffd\\ufffd\\ufffd\\ufffd\\ufffd\\ufffd\\ufffd\\ufffd\\ufffd\\ufffd\\ufffd\\ufffd\\ufffd\\ufffd\\ufffd\\ufffd\\ufffd\\ufffd\\ufffd\\ufffd\\ufffd\\ufffd\\ufffd\\ufffd\": {\"frequency\": 1, \"value\": \"\\u5b81\\u590f\\u7ebd\\u6cf0\\u7535\\u5b50\\u79d1\\u6280\\u6709\\u9650\\u516c\\u53f8\"}, \"\\ufffd\\ufffd\\ufffd\\ufffd\\ufffd\\ufffd\\ufffd\\ufffd\\ufffd\\ufffd\\ufffd\\ufffd\\ufffd\\ufffd\\ufffd\\ufffd\\ufffd\\ufffd\": {\"frequency\": 1, \"value\": \"\\u9f99\\u6d69\\u901a\\u4fe1\\u516c\\u53f8\"}, \"\\ufffd\\ufffd\\ufffd\\ufffd\\ufffd\\ufffd\\ufffd\\ufffd\\ufffd\\ufffd\\ufffd\\ufffd(\\ufffd\\ufffd\\ufffd\\ufffd\\ufffd\\ufffd)\\ufffd\\ufffd\\ufffd\\ufffd\\ufffd\\ufffd\\ufffd\\ufffd\\ufffd\\ufffd\\ufffd\\ufffd\\ufffd\\ufffd\\ufffd\\ufffd\\ufffd\\ufffd\": {\"frequency\": 1, \"value\": \"\\u65f6\\u4ee3\\u8fdc\\u60f3(\\u5317\\u4eac)\\u79d1\\u6280\\u6709\\u9650\\u516c\\u53f8\"}, \"\\ufffd\\ufffd\\ufffd\\ufffd\\ufffd\\ufffd\\ufffd\\ufffd\\ufffd\\ufffd\\ufffd\\ufffd\\ufffd\\ufffd\\ufffd\\ufffd\\ufffd\\ufffd\\ufffd\\ufffd\\ufffd\\ufffd\\ufffd\\ufffd\\ufffd\\ufffd\\ufffd\\ufffd\\ufffd\\ufffd\\ufffd\\ufffd\\ufffd\\ufffd\\ufffd\\ufffd\\ufffd\\ufffd\\ufffd\\ufffd\\ufffd\\ufffd\": {\"frequency\": 1, \"value\": \"\\u957f\\u57ce\\u8ba1\\u7b97\\u673a\\u8f6f\\u4ef6\\u4e0e\\u7cfb\\u7edf\\u6709\\u9650\\u516c\\u53f8\"}, \"\\ufffd\\ufffd\\ufffd\\ufffd\\ufffd\\ufffd\\ufffd\\ufffd\\ufffd\\ufffd\\ufffd\\ufffd\\ufffd\\ufffd\\ufffd\\ufffd\\ufffd\\ufffd\\ufffd\\ufffd\\ufffd\\ufffd\\ufffd\\ufffd\\ufffd\\ufffd\\ufffd\\ufffd\\ufffd\\ufffd\\ufffd\\ufffd\\ufffd\": {\"frequency\": 3, \"value\": \"\\u5357\\u4eac\\u82cf\\u521b\\u6c47\\u7f51\\u7edc\\u6709\\u9650\\u516c\\u53f8\"}, \"\\ufffd\\ufffd\\ufffd\\ufffd\\ufffd\\ufffd\\ufffd\\ufffd\\ufffd\\ufffd\\ufffd\\ufffd\\ufffd\\ufffd\\ufffd\\ufffd\\ufffd\\ufffd\\ufffd\\ufffd\\ufffd\\ufffd\\ufffd\\ufffd\": {\"frequency\": 1, \"value\": \"\\u4e1c\\u534e\\u8f6f\\u4ef6\\u80a1\\u4efd\\u516c\\u53f8\"}}, \"size\": 1073}}, \"selected_variable\": {\"name\": [\"<SFrame>\"], \"descriptives\": {\"rows\": 1073, \"columns\": 5}, \"view_component\": \"Summary\", \"view_file\": \"sframe\", \"view_params\": {\"y\": null, \"x\": null, \"columns\": [\"category\", \"buyer\", \"seller\", \"brand_type\", \"total_price\"], \"view\": null}, \"view_components\": [\"Summary\", \"Table\", \"Bar Chart\", \"BoxWhisker Plot\", \"Line Chart\", \"Scatter Plot\", \"Heat Map\", \"Plots\"], \"type\": \"SFrame\", \"columns\": [{\"dtype\": \"str\", \"name\": \"category\"}, {\"dtype\": \"str\", \"name\": \"buyer\"}, {\"dtype\": \"str\", \"name\": \"seller\"}, {\"dtype\": \"str\", \"name\": \"brand_type\"}, {\"dtype\": \"float\", \"name\": \"total_price\"}], \"column_identifiers\": [\"category\", \"buyer\", \"total_price\", \"brand_type\", \"seller\"]}, \"columns\": [{\"dtype\": \"str\", \"name\": \"category\"}, {\"dtype\": \"str\", \"name\": \"buyer\"}, {\"dtype\": \"str\", \"name\": \"seller\"}, {\"dtype\": \"str\", \"name\": \"brand_type\"}, {\"dtype\": \"float\", \"name\": \"total_price\"}]}, e);\n",
       "                });\n",
       "            })();\n",
       "        "
      ]
     },
     "metadata": {},
     "output_type": "display_data"
    }
   ],
   "source": [
    "sales[my_features].show()"
   ]
  },
  {
   "cell_type": "code",
   "execution_count": 7,
   "metadata": {
    "collapsed": false
   },
   "outputs": [
    {
     "data": {
      "application/javascript": [
       "$(\"head\").append($(\"<link/>\").attr({\n",
       "  rel:  \"stylesheet\",\n",
       "  type: \"text/css\",\n",
       "  href: \"//cdnjs.cloudflare.com/ajax/libs/font-awesome/4.1.0/css/font-awesome.min.css\"\n",
       "}));\n",
       "$(\"head\").append($(\"<link/>\").attr({\n",
       "  rel:  \"stylesheet\",\n",
       "  type: \"text/css\",\n",
       "  href: \"//dato.com/files/canvas/1.10.1/css/canvas.css\"\n",
       "}));\n",
       "\n",
       "            (function(){\n",
       "\n",
       "                var e = null;\n",
       "                if (typeof element == 'undefined') {\n",
       "                    var scripts = document.getElementsByTagName('script');\n",
       "                    var thisScriptTag = scripts[scripts.length-1];\n",
       "                    var parentDiv = thisScriptTag.parentNode;\n",
       "                    e = document.createElement('div');\n",
       "                    parentDiv.appendChild(e);\n",
       "                } else {\n",
       "                    e = element[0];\n",
       "                }\n",
       "\n",
       "                if (typeof requirejs !== 'undefined') {\n",
       "                    // disable load timeout; ipython_app.js is large and can take a while to load.\n",
       "                    requirejs.config({waitSeconds: 0});\n",
       "                }\n",
       "\n",
       "                require(['//dato.com/files/canvas/1.10.1/js/ipython_app.js'], function(IPythonApp){\n",
       "                    var app = new IPythonApp();\n",
       "                    app.attachView('sframe','Plots', {\"selected_variable\": {\"name\": [\"sales\"], \"descriptives\": {\"rows\": 1073, \"columns\": 13}, \"view_component\": \"Plots\", \"view_file\": \"sframe\", \"view_params\": {\"y\": \"total_price\", \"x\": \"category\", \"columns\": [\"id\", \"category\", \"brand\", \"type\", \"model\", \"buyer\", \"number\", \"price\", \"seller\", \"date\", \"time\", \"total_price\", \"brand_type\"], \"view\": \"BoxWhisker Plot\"}, \"view_components\": [\"Summary\", \"Table\", \"Bar Chart\", \"BoxWhisker Plot\", \"Line Chart\", \"Scatter Plot\", \"Heat Map\", \"Plots\"], \"type\": \"SFrame\", \"columns\": [{\"dtype\": \"int\", \"name\": \"id\"}, {\"dtype\": \"str\", \"name\": \"category\"}, {\"dtype\": \"str\", \"name\": \"brand\"}, {\"dtype\": \"str\", \"name\": \"type\"}, {\"dtype\": \"str\", \"name\": \"model\"}, {\"dtype\": \"str\", \"name\": \"buyer\"}, {\"dtype\": \"int\", \"name\": \"number\"}, {\"dtype\": \"float\", \"name\": \"price\"}, {\"dtype\": \"str\", \"name\": \"seller\"}, {\"dtype\": \"str\", \"name\": \"date\"}, {\"dtype\": \"str\", \"name\": \"time\"}, {\"dtype\": \"float\", \"name\": \"total_price\"}, {\"dtype\": \"str\", \"name\": \"brand_type\"}], \"column_identifiers\": [\"category\", \"total_price\", \"brand_type\", \"brand\", \"number\", \"seller\", \"buyer\", \"id\", \"time\", \"date\", \"model\", \"type\", \"price\"]}, \"complete\": 1, \"ipython\": true, \"progress\": 1.0, \"data\": {\"grouped\": [[\"GPU\\u5e76\\u884c\\u8fd0\\u7b97\\u670d\\u52a1\\u5668\\u4e2d\\u3001\\u4f4e\\u6863\", [10000.0, 10000.0, 21407.0, 21407.0, 23810.0, 72522.0, 145044.0, 275580.0, 275580.0, 580176.0, 580176.0]], [\"GPU\\u5e76\\u884c\\u8fd0\\u7b97\\u670d\\u52a1\\u5668\\u9ad8\\u6863\", [29164.0, 29164.0, 29770.0, 29770.0, 32206.11, 38636.0, 72480.0, 161000.0, 162900.0, 432000.0, 432000.0]], [\"MIC\\u5e76\\u884c\\u670d\\u52a1\\u5668\", [23600.0, 23600.0, 24600.0, 29999.0, 56500.0, 70900.0, 179994.0, 354500.0, 359988.0, 452000.0, 452000.0]], [\"UNIX\\u670d\\u52a1\\u5668\", [105219.0, 105219.0, 106918.0, 106918.0, 221514.0, 331350.0, 514150.0, 734054.0, 734054.0, 855344.0, 855344.0]], [\"\\u5200\\u7247\\u670d\\u52a1\\u5668\\u4e2d\\u6863\", [15401.0, 15401.0, 26002.0, 26002.0, 84438.0, 140730.0, 204960.0, 373008.0, 373008.0, 618800.0, 618800.0]], [\"\\u5200\\u7247\\u670d\\u52a1\\u5668\\u4f4e\\u6863\", [12845.0, 12845.0, 17160.0, 17160.0, 33460.0, 96136.0, 108850.67, 138000.0, 154440.0, 407712.0, 407712.0]], [\"\\u5200\\u7247\\u670d\\u52a1\\u5668\\u9ad8\\u6863\", [40689.0, 40689.0, 83267.0, 83267.0, 98000.0, 249801.0, 400000.0, 499602.0, 499602.0, 785211.84, 785211.84]], [\"\\u5854\\u5f0f\\u670d\\u52a1\\u5668\\u4e2d\\u6863\", [12400.0, 12400.0, 16296.0, 16296.0, 19737.0, 22414.0, 29158.0, 39474.0, 39474.0, 124800.0, 124800.0]], [\"\\u5854\\u5f0f\\u670d\\u52a1\\u5668\\u4f4e\\u6863\", [2040.0, 2040.0, 8200.0, 8539.0, 8683.0, 12032.0, 12392.0, 24784.0, 34680.0, 718620.0, 718620.0]], [\"\\u5854\\u5f0f\\u670d\\u52a1\\u5668\\u9ad8\\u6863\", [11402.0, 12340.0, 22880.0, 24954.0, 28937.0, 38427.0, 48152.5, 77482.0, 83200.0, 228400.0, 228800.0]], [\"\\u673a\\u67b6\\u5f0f\\u670d\\u52a1\\u5668\\u4e2d\\u3001\\u4f4e\\u6863\", [2046.0, 11860.0, 16382.0, 16913.0, 23338.0, 30540.0, 62940.0, 135304.0, 144534.0, 467575.0, 809107.8]], [\"\\u673a\\u67b6\\u5f0f\\u670d\\u52a1\\u5668\\u9ad8\\u6863\", [33100.0, 33100.0, 49020.0, 58710.0, 63530.0, 150104.0, 222068.0, 389122.0, 389122.0, 745668.4, 778244.0]]], \"omitted\": 0}, \"columns\": [{\"dtype\": \"int\", \"name\": \"id\"}, {\"dtype\": \"str\", \"name\": \"category\"}, {\"dtype\": \"str\", \"name\": \"brand\"}, {\"dtype\": \"str\", \"name\": \"type\"}, {\"dtype\": \"str\", \"name\": \"model\"}, {\"dtype\": \"str\", \"name\": \"buyer\"}, {\"dtype\": \"int\", \"name\": \"number\"}, {\"dtype\": \"float\", \"name\": \"price\"}, {\"dtype\": \"str\", \"name\": \"seller\"}, {\"dtype\": \"str\", \"name\": \"date\"}, {\"dtype\": \"str\", \"name\": \"time\"}, {\"dtype\": \"float\", \"name\": \"total_price\"}, {\"dtype\": \"str\", \"name\": \"brand_type\"}]}, e);\n",
       "                });\n",
       "            })();\n",
       "        "
      ]
     },
     "metadata": {},
     "output_type": "display_data"
    }
   ],
   "source": [
    "graphlab.canvas.set_target('ipynb')\n",
    "sales.show(view='BoxWhisker Plot', x='category', y='total_price')"
   ]
  },
  {
   "cell_type": "code",
   "execution_count": null,
   "metadata": {
    "collapsed": true
   },
   "outputs": [],
   "source": []
  }
 ],
 "metadata": {
  "kernelspec": {
   "display_name": "Python [dato-env]",
   "language": "python",
   "name": "Python [dato-env]"
  },
  "language_info": {
   "codemirror_mode": {
    "name": "ipython",
    "version": 2
   },
   "file_extension": ".py",
   "mimetype": "text/x-python",
   "name": "python",
   "nbconvert_exporter": "python",
   "pygments_lexer": "ipython2",
   "version": "2.7.11"
  }
 },
 "nbformat": 4,
 "nbformat_minor": 0
}
